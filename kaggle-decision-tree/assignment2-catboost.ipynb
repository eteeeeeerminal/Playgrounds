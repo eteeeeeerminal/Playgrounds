{
 "cells": [
  {
   "cell_type": "markdown",
   "id": "0e2bfb80",
   "metadata": {
    "papermill": {
     "duration": 0.013368,
     "end_time": "2023-08-09T03:12:50.704281",
     "exception": false,
     "start_time": "2023-08-09T03:12:50.690913",
     "status": "completed"
    },
    "tags": []
   },
   "source": [
    "# UEC実践ソフトウェア開発基礎論2023-レポート課題2\n",
    "田中久温\n",
    "\n",
    "## 概要\n",
    "元コンペ: https://www.kaggle.com/competitions/bnp-paribas-cardif-claims-management \\\n",
    "個人保険のデータセット．顧客から来た保険金の請求を速やかにチェックして承認 or 非承認しないといけない．\\\n",
    "データセットに含まれる請求には2つのカテゴリが含まれていて，どっちのカテゴリか判定したい．\\\n",
    "出力は確率，評価指標は logloss \\\n",
    "目的変数も説明変数も匿名で，特に説明無し．順序変数はないらしい．\n",
    "\n",
    "## 手法\n",
    "この notebook では，CatBoost を試す．\\\n",
    "LightGBM の次に実装する．"
   ]
  },
  {
   "cell_type": "code",
   "execution_count": 1,
   "id": "c75caf1b",
   "metadata": {
    "execution": {
     "iopub.execute_input": "2023-08-09T03:12:50.728430Z",
     "iopub.status.busy": "2023-08-09T03:12:50.727932Z",
     "iopub.status.idle": "2023-08-09T03:12:50.742275Z",
     "shell.execute_reply": "2023-08-09T03:12:50.741386Z"
    },
    "papermill": {
     "duration": 0.029363,
     "end_time": "2023-08-09T03:12:50.744726",
     "exception": false,
     "start_time": "2023-08-09T03:12:50.715363",
     "status": "completed"
    },
    "tags": []
   },
   "outputs": [],
   "source": [
    "import os\n",
    "import numpy as np\n",
    "import pandas as pd\n",
    "import matplotlib.pyplot as plt"
   ]
  },
  {
   "cell_type": "code",
   "execution_count": 2,
   "id": "cdb36c22",
   "metadata": {
    "execution": {
     "iopub.execute_input": "2023-08-09T03:12:50.768337Z",
     "iopub.status.busy": "2023-08-09T03:12:50.767969Z",
     "iopub.status.idle": "2023-08-09T03:12:59.581001Z",
     "shell.execute_reply": "2023-08-09T03:12:59.579977Z"
    },
    "papermill": {
     "duration": 8.827636,
     "end_time": "2023-08-09T03:12:59.583602",
     "exception": false,
     "start_time": "2023-08-09T03:12:50.755966",
     "status": "completed"
    },
    "tags": []
   },
   "outputs": [],
   "source": [
    "train_df = pd.read_csv(\"../input/bnp-paribas-cardif-claims-management/train.csv.zip\")\n",
    "test_df = pd.read_csv(\"../input/bnp-paribas-cardif-claims-management/test.csv.zip\")\n",
    "sample_df = pd.read_csv(\"../input/bnp-paribas-cardif-claims-management/sample_submission.csv.zip\")"
   ]
  },
  {
   "cell_type": "code",
   "execution_count": 3,
   "id": "de8ab52d",
   "metadata": {
    "execution": {
     "iopub.execute_input": "2023-08-09T03:12:59.607113Z",
     "iopub.status.busy": "2023-08-09T03:12:59.606693Z",
     "iopub.status.idle": "2023-08-09T03:12:59.750331Z",
     "shell.execute_reply": "2023-08-09T03:12:59.749275Z"
    },
    "papermill": {
     "duration": 0.158562,
     "end_time": "2023-08-09T03:12:59.753092",
     "exception": false,
     "start_time": "2023-08-09T03:12:59.594530",
     "status": "completed"
    },
    "tags": []
   },
   "outputs": [],
   "source": [
    "train_test_df = pd.concat([train_df, test_df])"
   ]
  },
  {
   "cell_type": "code",
   "execution_count": 4,
   "id": "aa5322f9",
   "metadata": {
    "execution": {
     "iopub.execute_input": "2023-08-09T03:12:59.777146Z",
     "iopub.status.busy": "2023-08-09T03:12:59.776669Z",
     "iopub.status.idle": "2023-08-09T03:12:59.791114Z",
     "shell.execute_reply": "2023-08-09T03:12:59.789419Z"
    },
    "papermill": {
     "duration": 0.030098,
     "end_time": "2023-08-09T03:12:59.794326",
     "exception": false,
     "start_time": "2023-08-09T03:12:59.764228",
     "status": "completed"
    },
    "tags": []
   },
   "outputs": [],
   "source": [
    "categorical_columns = [c for c in train_test_df.columns if train_test_df[c].dtype == 'O'] # 先生のサンプルから\n",
    "numeric_columns = [c for c in train_test_df.columns[2:] if c not in categorical_columns]"
   ]
  },
  {
   "cell_type": "markdown",
   "id": "31437e13",
   "metadata": {
    "papermill": {
     "duration": 0.010651,
     "end_time": "2023-08-09T03:12:59.816174",
     "exception": false,
     "start_time": "2023-08-09T03:12:59.805523",
     "status": "completed"
    },
    "tags": []
   },
   "source": [
    "## カテゴリ変数の変換\n",
    "欠損値処理等とくにせずにやる"
   ]
  },
  {
   "cell_type": "code",
   "execution_count": 5,
   "id": "7ec17c08",
   "metadata": {
    "execution": {
     "iopub.execute_input": "2023-08-09T03:12:59.840564Z",
     "iopub.status.busy": "2023-08-09T03:12:59.839521Z",
     "iopub.status.idle": "2023-08-09T03:13:02.505400Z",
     "shell.execute_reply": "2023-08-09T03:13:02.504374Z"
    },
    "papermill": {
     "duration": 2.680762,
     "end_time": "2023-08-09T03:13:02.508019",
     "exception": false,
     "start_time": "2023-08-09T03:12:59.827257",
     "status": "completed"
    },
    "tags": []
   },
   "outputs": [
    {
     "name": "stderr",
     "output_type": "stream",
     "text": [
      "/opt/conda/lib/python3.10/site-packages/scipy/__init__.py:146: UserWarning: A NumPy version >=1.16.5 and <1.23.0 is required for this version of SciPy (detected version 1.23.5\n",
      "  warnings.warn(f\"A NumPy version >={np_minversion} and <{np_maxversion}\"\n"
     ]
    }
   ],
   "source": [
    "from sklearn.preprocessing import LabelEncoder\n",
    "\n",
    "for c in categorical_columns:\n",
    "    le = LabelEncoder()\n",
    "    train_test_df[c] = le.fit_transform(train_test_df[c])"
   ]
  },
  {
   "cell_type": "markdown",
   "id": "2e2ce069",
   "metadata": {
    "papermill": {
     "duration": 0.010692,
     "end_time": "2023-08-09T03:13:02.530005",
     "exception": false,
     "start_time": "2023-08-09T03:13:02.519313",
     "status": "completed"
    },
    "tags": []
   },
   "source": [
    "## 学習"
   ]
  },
  {
   "cell_type": "code",
   "execution_count": 6,
   "id": "5d8e105f",
   "metadata": {
    "execution": {
     "iopub.execute_input": "2023-08-09T03:13:02.554505Z",
     "iopub.status.busy": "2023-08-09T03:13:02.553788Z",
     "iopub.status.idle": "2023-08-09T03:13:02.558347Z",
     "shell.execute_reply": "2023-08-09T03:13:02.557197Z"
    },
    "papermill": {
     "duration": 0.019671,
     "end_time": "2023-08-09T03:13:02.560614",
     "exception": false,
     "start_time": "2023-08-09T03:13:02.540943",
     "status": "completed"
    },
    "tags": []
   },
   "outputs": [],
   "source": [
    "use_cols = numeric_columns + categorical_columns"
   ]
  },
  {
   "cell_type": "code",
   "execution_count": 7,
   "id": "d1dc5c6e",
   "metadata": {
    "execution": {
     "iopub.execute_input": "2023-08-09T03:13:02.584768Z",
     "iopub.status.busy": "2023-08-09T03:13:02.584326Z",
     "iopub.status.idle": "2023-08-09T03:13:03.242476Z",
     "shell.execute_reply": "2023-08-09T03:13:03.241528Z"
    },
    "papermill": {
     "duration": 0.673423,
     "end_time": "2023-08-09T03:13:03.245293",
     "exception": false,
     "start_time": "2023-08-09T03:13:02.571870",
     "status": "completed"
    },
    "tags": []
   },
   "outputs": [],
   "source": [
    "# データ分割\n",
    "from sklearn.model_selection import train_test_split \n",
    "\n",
    "train_ft_df = train_test_df[train_test_df['target'].notna()][use_cols]\n",
    "train_y_df = train_test_df[train_test_df['target'].notna()]['target'].astype(int)\n",
    "test_ft_df = train_test_df[train_test_df['target'].isna()][use_cols]\n",
    "\n",
    "train_X, valid_X, train_y, valid_y = train_test_split(train_ft_df, train_y_df, test_size=0.2, shuffle=True)"
   ]
  },
  {
   "cell_type": "code",
   "execution_count": 8,
   "id": "682dc532",
   "metadata": {
    "execution": {
     "iopub.execute_input": "2023-08-09T03:13:03.270914Z",
     "iopub.status.busy": "2023-08-09T03:13:03.270139Z",
     "iopub.status.idle": "2023-08-09T03:13:03.772680Z",
     "shell.execute_reply": "2023-08-09T03:13:03.771199Z"
    },
    "papermill": {
     "duration": 0.518565,
     "end_time": "2023-08-09T03:13:03.775501",
     "exception": false,
     "start_time": "2023-08-09T03:13:03.256936",
     "status": "completed"
    },
    "tags": []
   },
   "outputs": [],
   "source": [
    "from catboost import CatBoostClassifier, Pool"
   ]
  },
  {
   "cell_type": "code",
   "execution_count": 9,
   "id": "4f92cf89",
   "metadata": {
    "execution": {
     "iopub.execute_input": "2023-08-09T03:13:03.800025Z",
     "iopub.status.busy": "2023-08-09T03:13:03.799540Z",
     "iopub.status.idle": "2023-08-09T03:13:03.808230Z",
     "shell.execute_reply": "2023-08-09T03:13:03.806889Z"
    },
    "papermill": {
     "duration": 0.024071,
     "end_time": "2023-08-09T03:13:03.810874",
     "exception": false,
     "start_time": "2023-08-09T03:13:03.786803",
     "status": "completed"
    },
    "tags": []
   },
   "outputs": [],
   "source": [
    "clf = CatBoostClassifier(iterations=1000, loss_function='Logloss')"
   ]
  },
  {
   "cell_type": "code",
   "execution_count": 10,
   "id": "039ee714",
   "metadata": {
    "execution": {
     "iopub.execute_input": "2023-08-09T03:13:03.836005Z",
     "iopub.status.busy": "2023-08-09T03:13:03.835579Z",
     "iopub.status.idle": "2023-08-09T03:13:20.530734Z",
     "shell.execute_reply": "2023-08-09T03:13:20.529536Z"
    },
    "papermill": {
     "duration": 16.711356,
     "end_time": "2023-08-09T03:13:20.533746",
     "exception": false,
     "start_time": "2023-08-09T03:13:03.822390",
     "status": "completed"
    },
    "tags": []
   },
   "outputs": [
    {
     "data": {
      "text/plain": [
       "<catboost.core.CatBoostClassifier at 0x7833e1c47520>"
      ]
     },
     "execution_count": 10,
     "metadata": {},
     "output_type": "execute_result"
    }
   ],
   "source": [
    "clf.fit(train_X, train_y, eval_set=(valid_X, valid_y), early_stopping_rounds=10, verbose_eval=False)"
   ]
  },
  {
   "cell_type": "code",
   "execution_count": 11,
   "id": "5477ef36",
   "metadata": {
    "execution": {
     "iopub.execute_input": "2023-08-09T03:13:20.559411Z",
     "iopub.status.busy": "2023-08-09T03:13:20.558390Z",
     "iopub.status.idle": "2023-08-09T03:13:20.687462Z",
     "shell.execute_reply": "2023-08-09T03:13:20.686105Z"
    },
    "papermill": {
     "duration": 0.145365,
     "end_time": "2023-08-09T03:13:20.690789",
     "exception": false,
     "start_time": "2023-08-09T03:13:20.545424",
     "status": "completed"
    },
    "tags": []
   },
   "outputs": [],
   "source": [
    "pred_test = clf.predict_proba(test_ft_df)[:, 1]"
   ]
  },
  {
   "cell_type": "code",
   "execution_count": 12,
   "id": "f0c70e2b",
   "metadata": {
    "execution": {
     "iopub.execute_input": "2023-08-09T03:13:20.715442Z",
     "iopub.status.busy": "2023-08-09T03:13:20.715015Z",
     "iopub.status.idle": "2023-08-09T03:13:21.234205Z",
     "shell.execute_reply": "2023-08-09T03:13:21.232820Z"
    },
    "papermill": {
     "duration": 0.535309,
     "end_time": "2023-08-09T03:13:21.237444",
     "exception": false,
     "start_time": "2023-08-09T03:13:20.702135",
     "status": "completed"
    },
    "tags": []
   },
   "outputs": [],
   "source": [
    "sub_df = pd.DataFrame({\n",
    "    \"ID\": test_df[\"ID\"], \n",
    "    \"PredictedProb\": pred_test\n",
    "}).to_csv(\"tanaka_sub_cat.csv\", index=False)"
   ]
  },
  {
   "cell_type": "markdown",
   "id": "d4574a5f",
   "metadata": {
    "papermill": {
     "duration": 0.011841,
     "end_time": "2023-08-09T03:13:21.261421",
     "exception": false,
     "start_time": "2023-08-09T03:13:21.249580",
     "status": "completed"
    },
    "tags": []
   },
   "source": [
    "public 0.469"
   ]
  },
  {
   "cell_type": "markdown",
   "id": "234cf74e",
   "metadata": {
    "papermill": {
     "duration": 0.012189,
     "end_time": "2023-08-09T03:13:21.287447",
     "exception": false,
     "start_time": "2023-08-09T03:13:21.275258",
     "status": "completed"
    },
    "tags": []
   },
   "source": [
    "### cat features 指定してみる"
   ]
  },
  {
   "cell_type": "code",
   "execution_count": 13,
   "id": "58f920bd",
   "metadata": {
    "execution": {
     "iopub.execute_input": "2023-08-09T03:13:21.315581Z",
     "iopub.status.busy": "2023-08-09T03:13:21.314021Z",
     "iopub.status.idle": "2023-08-09T03:13:21.320968Z",
     "shell.execute_reply": "2023-08-09T03:13:21.319665Z"
    },
    "papermill": {
     "duration": 0.023946,
     "end_time": "2023-08-09T03:13:21.323850",
     "exception": false,
     "start_time": "2023-08-09T03:13:21.299904",
     "status": "completed"
    },
    "tags": []
   },
   "outputs": [],
   "source": [
    "clf = CatBoostClassifier(iterations=1000, loss_function='Logloss', cat_features=categorical_columns)"
   ]
  },
  {
   "cell_type": "code",
   "execution_count": 14,
   "id": "60f3c01d",
   "metadata": {
    "execution": {
     "iopub.execute_input": "2023-08-09T03:13:21.350093Z",
     "iopub.status.busy": "2023-08-09T03:13:21.349635Z",
     "iopub.status.idle": "2023-08-09T03:14:32.648587Z",
     "shell.execute_reply": "2023-08-09T03:14:32.647379Z"
    },
    "papermill": {
     "duration": 71.315084,
     "end_time": "2023-08-09T03:14:32.651322",
     "exception": false,
     "start_time": "2023-08-09T03:13:21.336238",
     "status": "completed"
    },
    "tags": []
   },
   "outputs": [
    {
     "name": "stdout",
     "output_type": "stream",
     "text": [
      "Learning rate set to 0.096678\n",
      "0:\tlearn: 0.6518990\ttest: 0.6515668\tbest: 0.6515668 (0)\ttotal: 415ms\tremaining: 6m 54s\n",
      "1:\tlearn: 0.6180077\ttest: 0.6174302\tbest: 0.6174302 (1)\ttotal: 809ms\tremaining: 6m 43s\n",
      "2:\tlearn: 0.5904154\ttest: 0.5898452\tbest: 0.5898452 (2)\ttotal: 1.16s\tremaining: 6m 26s\n",
      "3:\tlearn: 0.5685905\ttest: 0.5680161\tbest: 0.5680161 (3)\ttotal: 1.46s\tremaining: 6m 3s\n",
      "4:\tlearn: 0.5521475\ttest: 0.5518286\tbest: 0.5518286 (4)\ttotal: 1.77s\tremaining: 5m 51s\n",
      "5:\tlearn: 0.5375618\ttest: 0.5371716\tbest: 0.5371716 (5)\ttotal: 2.1s\tremaining: 5m 48s\n",
      "6:\tlearn: 0.5274062\ttest: 0.5269240\tbest: 0.5269240 (6)\ttotal: 2.45s\tremaining: 5m 47s\n",
      "7:\tlearn: 0.5180816\ttest: 0.5175125\tbest: 0.5175125 (7)\ttotal: 2.78s\tremaining: 5m 45s\n",
      "8:\tlearn: 0.5110858\ttest: 0.5104440\tbest: 0.5104440 (8)\ttotal: 3.14s\tremaining: 5m 46s\n",
      "9:\tlearn: 0.5057954\ttest: 0.5049984\tbest: 0.5049984 (9)\ttotal: 3.46s\tremaining: 5m 42s\n",
      "10:\tlearn: 0.5008016\ttest: 0.4999388\tbest: 0.4999388 (10)\ttotal: 3.79s\tremaining: 5m 40s\n",
      "11:\tlearn: 0.4963025\ttest: 0.4954211\tbest: 0.4954211 (11)\ttotal: 4.16s\tremaining: 5m 42s\n",
      "12:\tlearn: 0.4930277\ttest: 0.4921397\tbest: 0.4921397 (12)\ttotal: 4.49s\tremaining: 5m 41s\n",
      "13:\tlearn: 0.4901199\ttest: 0.4892307\tbest: 0.4892307 (13)\ttotal: 4.79s\tremaining: 5m 37s\n",
      "14:\tlearn: 0.4879270\ttest: 0.4870430\tbest: 0.4870430 (14)\ttotal: 5.15s\tremaining: 5m 38s\n",
      "15:\tlearn: 0.4861019\ttest: 0.4852100\tbest: 0.4852100 (15)\ttotal: 5.47s\tremaining: 5m 36s\n",
      "16:\tlearn: 0.4843393\ttest: 0.4835105\tbest: 0.4835105 (16)\ttotal: 5.81s\tremaining: 5m 36s\n",
      "17:\tlearn: 0.4827540\ttest: 0.4819177\tbest: 0.4819177 (17)\ttotal: 6.11s\tremaining: 5m 33s\n",
      "18:\tlearn: 0.4815663\ttest: 0.4807241\tbest: 0.4807241 (18)\ttotal: 6.46s\tremaining: 5m 33s\n",
      "19:\tlearn: 0.4807622\ttest: 0.4799164\tbest: 0.4799164 (19)\ttotal: 6.78s\tremaining: 5m 32s\n",
      "20:\tlearn: 0.4796500\ttest: 0.4788526\tbest: 0.4788526 (20)\ttotal: 7.08s\tremaining: 5m 30s\n",
      "21:\tlearn: 0.4786417\ttest: 0.4778911\tbest: 0.4778911 (21)\ttotal: 7.43s\tremaining: 5m 30s\n",
      "22:\tlearn: 0.4775371\ttest: 0.4767975\tbest: 0.4767975 (22)\ttotal: 7.73s\tremaining: 5m 28s\n",
      "23:\tlearn: 0.4770258\ttest: 0.4763918\tbest: 0.4763918 (23)\ttotal: 8.08s\tremaining: 5m 28s\n",
      "24:\tlearn: 0.4763792\ttest: 0.4758484\tbest: 0.4758484 (24)\ttotal: 8.47s\tremaining: 5m 30s\n",
      "25:\tlearn: 0.4758409\ttest: 0.4753490\tbest: 0.4753490 (25)\ttotal: 8.79s\tremaining: 5m 29s\n",
      "26:\tlearn: 0.4754104\ttest: 0.4749567\tbest: 0.4749567 (26)\ttotal: 9.12s\tremaining: 5m 28s\n",
      "27:\tlearn: 0.4748654\ttest: 0.4745006\tbest: 0.4745006 (27)\ttotal: 9.44s\tremaining: 5m 27s\n",
      "28:\tlearn: 0.4742817\ttest: 0.4739464\tbest: 0.4739464 (28)\ttotal: 9.76s\tremaining: 5m 26s\n",
      "29:\tlearn: 0.4737631\ttest: 0.4735009\tbest: 0.4735009 (29)\ttotal: 10.1s\tremaining: 5m 26s\n",
      "30:\tlearn: 0.4733482\ttest: 0.4730693\tbest: 0.4730693 (30)\ttotal: 10.4s\tremaining: 5m 24s\n",
      "31:\tlearn: 0.4730066\ttest: 0.4727555\tbest: 0.4727555 (31)\ttotal: 10.7s\tremaining: 5m 23s\n",
      "32:\tlearn: 0.4727655\ttest: 0.4725003\tbest: 0.4725003 (32)\ttotal: 11.1s\tremaining: 5m 23s\n",
      "33:\tlearn: 0.4723828\ttest: 0.4720828\tbest: 0.4720828 (33)\ttotal: 11.4s\tremaining: 5m 23s\n",
      "34:\tlearn: 0.4722197\ttest: 0.4719847\tbest: 0.4719847 (34)\ttotal: 11.7s\tremaining: 5m 23s\n",
      "35:\tlearn: 0.4715446\ttest: 0.4711915\tbest: 0.4711915 (35)\ttotal: 12.1s\tremaining: 5m 24s\n",
      "36:\tlearn: 0.4709676\ttest: 0.4705548\tbest: 0.4705548 (36)\ttotal: 12.5s\tremaining: 5m 24s\n",
      "37:\tlearn: 0.4703926\ttest: 0.4699409\tbest: 0.4699409 (37)\ttotal: 12.9s\tremaining: 5m 25s\n",
      "38:\tlearn: 0.4698372\ttest: 0.4691785\tbest: 0.4691785 (38)\ttotal: 13.2s\tremaining: 5m 26s\n",
      "39:\tlearn: 0.4689654\ttest: 0.4676818\tbest: 0.4676818 (39)\ttotal: 13.7s\tremaining: 5m 28s\n",
      "40:\tlearn: 0.4683944\ttest: 0.4668564\tbest: 0.4668564 (40)\ttotal: 14.1s\tremaining: 5m 30s\n",
      "41:\tlearn: 0.4681560\ttest: 0.4666675\tbest: 0.4666675 (41)\ttotal: 14.4s\tremaining: 5m 28s\n",
      "42:\tlearn: 0.4678605\ttest: 0.4664815\tbest: 0.4664815 (42)\ttotal: 14.7s\tremaining: 5m 27s\n",
      "43:\tlearn: 0.4674869\ttest: 0.4662172\tbest: 0.4662172 (43)\ttotal: 15.1s\tremaining: 5m 28s\n",
      "44:\tlearn: 0.4672709\ttest: 0.4659947\tbest: 0.4659947 (44)\ttotal: 15.5s\tremaining: 5m 28s\n",
      "45:\tlearn: 0.4668938\ttest: 0.4656745\tbest: 0.4656745 (45)\ttotal: 15.8s\tremaining: 5m 27s\n",
      "46:\tlearn: 0.4664809\ttest: 0.4653745\tbest: 0.4653745 (46)\ttotal: 16.1s\tremaining: 5m 26s\n",
      "47:\tlearn: 0.4657402\ttest: 0.4640862\tbest: 0.4640862 (47)\ttotal: 16.5s\tremaining: 5m 28s\n",
      "48:\tlearn: 0.4655007\ttest: 0.4638865\tbest: 0.4638865 (48)\ttotal: 16.9s\tremaining: 5m 28s\n",
      "49:\tlearn: 0.4653561\ttest: 0.4637571\tbest: 0.4637571 (49)\ttotal: 17.3s\tremaining: 5m 28s\n",
      "50:\tlearn: 0.4649964\ttest: 0.4634117\tbest: 0.4634117 (50)\ttotal: 17.6s\tremaining: 5m 28s\n",
      "51:\tlearn: 0.4647805\ttest: 0.4632692\tbest: 0.4632692 (51)\ttotal: 18s\tremaining: 5m 27s\n",
      "52:\tlearn: 0.4642683\ttest: 0.4627094\tbest: 0.4627094 (52)\ttotal: 18.4s\tremaining: 5m 29s\n",
      "53:\tlearn: 0.4641372\ttest: 0.4626162\tbest: 0.4626162 (53)\ttotal: 18.8s\tremaining: 5m 29s\n",
      "54:\tlearn: 0.4637900\ttest: 0.4623809\tbest: 0.4623809 (54)\ttotal: 19.1s\tremaining: 5m 28s\n",
      "55:\tlearn: 0.4635638\ttest: 0.4621099\tbest: 0.4621099 (55)\ttotal: 19.5s\tremaining: 5m 28s\n",
      "56:\tlearn: 0.4631074\ttest: 0.4615306\tbest: 0.4615306 (56)\ttotal: 20s\tremaining: 5m 30s\n",
      "57:\tlearn: 0.4629639\ttest: 0.4614488\tbest: 0.4614488 (57)\ttotal: 20.3s\tremaining: 5m 29s\n",
      "58:\tlearn: 0.4625792\ttest: 0.4610343\tbest: 0.4610343 (58)\ttotal: 20.8s\tremaining: 5m 31s\n",
      "59:\tlearn: 0.4624153\ttest: 0.4608934\tbest: 0.4608934 (59)\ttotal: 21.1s\tremaining: 5m 30s\n",
      "60:\tlearn: 0.4622729\ttest: 0.4608058\tbest: 0.4608058 (60)\ttotal: 21.5s\tremaining: 5m 30s\n",
      "61:\tlearn: 0.4618387\ttest: 0.4602446\tbest: 0.4602446 (61)\ttotal: 21.9s\tremaining: 5m 31s\n",
      "62:\tlearn: 0.4616817\ttest: 0.4601252\tbest: 0.4601252 (62)\ttotal: 22.3s\tremaining: 5m 31s\n",
      "63:\tlearn: 0.4615599\ttest: 0.4599747\tbest: 0.4599747 (63)\ttotal: 22.6s\tremaining: 5m 30s\n",
      "64:\tlearn: 0.4613949\ttest: 0.4598297\tbest: 0.4598297 (64)\ttotal: 23s\tremaining: 5m 30s\n",
      "65:\tlearn: 0.4610827\ttest: 0.4595735\tbest: 0.4595735 (65)\ttotal: 23.3s\tremaining: 5m 30s\n",
      "66:\tlearn: 0.4609784\ttest: 0.4594961\tbest: 0.4594961 (66)\ttotal: 23.7s\tremaining: 5m 29s\n",
      "67:\tlearn: 0.4606813\ttest: 0.4592209\tbest: 0.4592209 (67)\ttotal: 24s\tremaining: 5m 28s\n",
      "68:\tlearn: 0.4605560\ttest: 0.4591229\tbest: 0.4591229 (68)\ttotal: 24.3s\tremaining: 5m 27s\n",
      "69:\tlearn: 0.4604176\ttest: 0.4590527\tbest: 0.4590527 (69)\ttotal: 24.6s\tremaining: 5m 27s\n",
      "70:\tlearn: 0.4603439\ttest: 0.4590165\tbest: 0.4590165 (70)\ttotal: 24.9s\tremaining: 5m 26s\n",
      "71:\tlearn: 0.4602140\ttest: 0.4589575\tbest: 0.4589575 (71)\ttotal: 25.3s\tremaining: 5m 25s\n",
      "72:\tlearn: 0.4601017\ttest: 0.4588258\tbest: 0.4588258 (72)\ttotal: 25.6s\tremaining: 5m 25s\n",
      "73:\tlearn: 0.4599156\ttest: 0.4587756\tbest: 0.4587756 (73)\ttotal: 25.9s\tremaining: 5m 24s\n",
      "74:\tlearn: 0.4598019\ttest: 0.4587227\tbest: 0.4587227 (74)\ttotal: 26.3s\tremaining: 5m 23s\n",
      "75:\tlearn: 0.4596701\ttest: 0.4586410\tbest: 0.4586410 (75)\ttotal: 26.6s\tremaining: 5m 23s\n",
      "76:\tlearn: 0.4595988\ttest: 0.4586099\tbest: 0.4586099 (76)\ttotal: 26.9s\tremaining: 5m 22s\n",
      "77:\tlearn: 0.4594712\ttest: 0.4585388\tbest: 0.4585388 (77)\ttotal: 27.3s\tremaining: 5m 22s\n",
      "78:\tlearn: 0.4593192\ttest: 0.4584863\tbest: 0.4584863 (78)\ttotal: 27.6s\tremaining: 5m 21s\n",
      "79:\tlearn: 0.4591038\ttest: 0.4582227\tbest: 0.4582227 (79)\ttotal: 28s\tremaining: 5m 21s\n",
      "80:\tlearn: 0.4588415\ttest: 0.4578938\tbest: 0.4578938 (80)\ttotal: 28.3s\tremaining: 5m 21s\n",
      "81:\tlearn: 0.4587187\ttest: 0.4578838\tbest: 0.4578838 (81)\ttotal: 28.6s\tremaining: 5m 20s\n",
      "82:\tlearn: 0.4586194\ttest: 0.4578240\tbest: 0.4578240 (82)\ttotal: 29s\tremaining: 5m 20s\n",
      "83:\tlearn: 0.4585076\ttest: 0.4578189\tbest: 0.4578189 (83)\ttotal: 29.3s\tremaining: 5m 19s\n",
      "84:\tlearn: 0.4582311\ttest: 0.4576341\tbest: 0.4576341 (84)\ttotal: 29.6s\tremaining: 5m 18s\n",
      "85:\tlearn: 0.4581084\ttest: 0.4575443\tbest: 0.4575443 (85)\ttotal: 30.1s\tremaining: 5m 19s\n",
      "86:\tlearn: 0.4579992\ttest: 0.4574633\tbest: 0.4574633 (86)\ttotal: 30.5s\tremaining: 5m 19s\n",
      "87:\tlearn: 0.4579407\ttest: 0.4574310\tbest: 0.4574310 (87)\ttotal: 30.9s\tremaining: 5m 20s\n",
      "88:\tlearn: 0.4578159\ttest: 0.4574436\tbest: 0.4574310 (87)\ttotal: 31.4s\tremaining: 5m 21s\n",
      "89:\tlearn: 0.4576478\ttest: 0.4572512\tbest: 0.4572512 (89)\ttotal: 31.9s\tremaining: 5m 22s\n",
      "90:\tlearn: 0.4575438\ttest: 0.4572387\tbest: 0.4572387 (90)\ttotal: 32.2s\tremaining: 5m 21s\n",
      "91:\tlearn: 0.4571752\ttest: 0.4565503\tbest: 0.4565503 (91)\ttotal: 32.6s\tremaining: 5m 21s\n",
      "92:\tlearn: 0.4570734\ttest: 0.4565539\tbest: 0.4565503 (91)\ttotal: 33s\tremaining: 5m 21s\n",
      "93:\tlearn: 0.4570141\ttest: 0.4565336\tbest: 0.4565336 (93)\ttotal: 33.3s\tremaining: 5m 21s\n",
      "94:\tlearn: 0.4568846\ttest: 0.4564174\tbest: 0.4564174 (94)\ttotal: 33.7s\tremaining: 5m 21s\n",
      "95:\tlearn: 0.4567838\ttest: 0.4563901\tbest: 0.4563901 (95)\ttotal: 34s\tremaining: 5m 20s\n",
      "96:\tlearn: 0.4565549\ttest: 0.4562207\tbest: 0.4562207 (96)\ttotal: 34.3s\tremaining: 5m 19s\n",
      "97:\tlearn: 0.4564480\ttest: 0.4561978\tbest: 0.4561978 (97)\ttotal: 34.6s\tremaining: 5m 18s\n",
      "98:\tlearn: 0.4562814\ttest: 0.4560855\tbest: 0.4560855 (98)\ttotal: 35s\tremaining: 5m 18s\n",
      "99:\tlearn: 0.4561751\ttest: 0.4560489\tbest: 0.4560489 (99)\ttotal: 35.4s\tremaining: 5m 18s\n",
      "100:\tlearn: 0.4560485\ttest: 0.4559840\tbest: 0.4559840 (100)\ttotal: 35.7s\tremaining: 5m 17s\n",
      "101:\tlearn: 0.4558126\ttest: 0.4557927\tbest: 0.4557927 (101)\ttotal: 36s\tremaining: 5m 17s\n",
      "102:\tlearn: 0.4556825\ttest: 0.4557029\tbest: 0.4557029 (102)\ttotal: 36.4s\tremaining: 5m 16s\n",
      "103:\tlearn: 0.4556323\ttest: 0.4557155\tbest: 0.4557029 (102)\ttotal: 36.7s\tremaining: 5m 15s\n",
      "104:\tlearn: 0.4554357\ttest: 0.4554170\tbest: 0.4554170 (104)\ttotal: 37.1s\tremaining: 5m 16s\n",
      "105:\tlearn: 0.4553751\ttest: 0.4554103\tbest: 0.4554103 (105)\ttotal: 37.4s\tremaining: 5m 15s\n",
      "106:\tlearn: 0.4553066\ttest: 0.4553815\tbest: 0.4553815 (106)\ttotal: 37.8s\tremaining: 5m 15s\n",
      "107:\tlearn: 0.4551853\ttest: 0.4553662\tbest: 0.4553662 (107)\ttotal: 38.1s\tremaining: 5m 14s\n",
      "108:\tlearn: 0.4550975\ttest: 0.4553506\tbest: 0.4553506 (108)\ttotal: 38.4s\tremaining: 5m 13s\n",
      "109:\tlearn: 0.4550148\ttest: 0.4553191\tbest: 0.4553191 (109)\ttotal: 38.7s\tremaining: 5m 13s\n",
      "110:\tlearn: 0.4549188\ttest: 0.4552577\tbest: 0.4552577 (110)\ttotal: 39.1s\tremaining: 5m 12s\n",
      "111:\tlearn: 0.4548742\ttest: 0.4552631\tbest: 0.4552577 (110)\ttotal: 39.4s\tremaining: 5m 12s\n",
      "112:\tlearn: 0.4547792\ttest: 0.4551592\tbest: 0.4551592 (112)\ttotal: 39.7s\tremaining: 5m 11s\n",
      "113:\tlearn: 0.4546321\ttest: 0.4551285\tbest: 0.4551285 (113)\ttotal: 40s\tremaining: 5m 10s\n",
      "114:\tlearn: 0.4545253\ttest: 0.4550611\tbest: 0.4550611 (114)\ttotal: 40.4s\tremaining: 5m 10s\n",
      "115:\tlearn: 0.4543840\ttest: 0.4549492\tbest: 0.4549492 (115)\ttotal: 40.7s\tremaining: 5m 9s\n",
      "116:\tlearn: 0.4543287\ttest: 0.4549243\tbest: 0.4549243 (116)\ttotal: 41s\tremaining: 5m 9s\n",
      "117:\tlearn: 0.4542800\ttest: 0.4549270\tbest: 0.4549243 (116)\ttotal: 41.4s\tremaining: 5m 9s\n",
      "118:\tlearn: 0.4542013\ttest: 0.4549197\tbest: 0.4549197 (118)\ttotal: 41.7s\tremaining: 5m 8s\n",
      "119:\tlearn: 0.4540539\ttest: 0.4547848\tbest: 0.4547848 (119)\ttotal: 42.1s\tremaining: 5m 8s\n",
      "120:\tlearn: 0.4539094\ttest: 0.4547384\tbest: 0.4547384 (120)\ttotal: 42.3s\tremaining: 5m 7s\n",
      "121:\tlearn: 0.4537971\ttest: 0.4546097\tbest: 0.4546097 (121)\ttotal: 42.7s\tremaining: 5m 7s\n",
      "122:\tlearn: 0.4537032\ttest: 0.4545930\tbest: 0.4545930 (122)\ttotal: 43s\tremaining: 5m 6s\n",
      "123:\tlearn: 0.4536330\ttest: 0.4545856\tbest: 0.4545856 (123)\ttotal: 43.3s\tremaining: 5m 6s\n",
      "124:\tlearn: 0.4535565\ttest: 0.4545406\tbest: 0.4545406 (124)\ttotal: 43.7s\tremaining: 5m 5s\n",
      "125:\tlearn: 0.4534070\ttest: 0.4544770\tbest: 0.4544770 (125)\ttotal: 44s\tremaining: 5m 5s\n",
      "126:\tlearn: 0.4533115\ttest: 0.4544935\tbest: 0.4544770 (125)\ttotal: 44.3s\tremaining: 5m 4s\n",
      "127:\tlearn: 0.4530755\ttest: 0.4541178\tbest: 0.4541178 (127)\ttotal: 44.6s\tremaining: 5m 4s\n",
      "128:\tlearn: 0.4530165\ttest: 0.4541177\tbest: 0.4541177 (128)\ttotal: 45s\tremaining: 5m 4s\n",
      "129:\tlearn: 0.4528872\ttest: 0.4541518\tbest: 0.4541177 (128)\ttotal: 45.4s\tremaining: 5m 3s\n",
      "130:\tlearn: 0.4528102\ttest: 0.4540925\tbest: 0.4540925 (130)\ttotal: 45.7s\tremaining: 5m 3s\n",
      "131:\tlearn: 0.4526817\ttest: 0.4541207\tbest: 0.4540925 (130)\ttotal: 46s\tremaining: 5m 2s\n",
      "132:\tlearn: 0.4525556\ttest: 0.4540547\tbest: 0.4540547 (132)\ttotal: 46.3s\tremaining: 5m 2s\n",
      "133:\tlearn: 0.4524480\ttest: 0.4540532\tbest: 0.4540532 (133)\ttotal: 46.7s\tremaining: 5m 1s\n",
      "134:\tlearn: 0.4523773\ttest: 0.4540450\tbest: 0.4540450 (134)\ttotal: 47s\tremaining: 5m 1s\n",
      "135:\tlearn: 0.4522022\ttest: 0.4539392\tbest: 0.4539392 (135)\ttotal: 47.4s\tremaining: 5m 1s\n",
      "136:\tlearn: 0.4521895\ttest: 0.4539397\tbest: 0.4539392 (135)\ttotal: 47.7s\tremaining: 5m\n",
      "137:\tlearn: 0.4520943\ttest: 0.4539072\tbest: 0.4539072 (137)\ttotal: 48s\tremaining: 5m\n",
      "138:\tlearn: 0.4518937\ttest: 0.4536786\tbest: 0.4536786 (138)\ttotal: 48.3s\tremaining: 4m 59s\n",
      "139:\tlearn: 0.4516408\ttest: 0.4532838\tbest: 0.4532838 (139)\ttotal: 48.7s\tremaining: 4m 58s\n",
      "140:\tlearn: 0.4515211\ttest: 0.4532736\tbest: 0.4532736 (140)\ttotal: 49s\tremaining: 4m 58s\n",
      "141:\tlearn: 0.4514117\ttest: 0.4533069\tbest: 0.4532736 (140)\ttotal: 49.3s\tremaining: 4m 57s\n",
      "142:\tlearn: 0.4512988\ttest: 0.4532411\tbest: 0.4532411 (142)\ttotal: 49.7s\tremaining: 4m 57s\n",
      "143:\tlearn: 0.4510940\ttest: 0.4531515\tbest: 0.4531515 (143)\ttotal: 50s\tremaining: 4m 57s\n",
      "144:\tlearn: 0.4510409\ttest: 0.4531706\tbest: 0.4531515 (143)\ttotal: 50.4s\tremaining: 4m 56s\n",
      "145:\tlearn: 0.4509971\ttest: 0.4531842\tbest: 0.4531515 (143)\ttotal: 50.7s\tremaining: 4m 56s\n",
      "146:\tlearn: 0.4509409\ttest: 0.4531534\tbest: 0.4531515 (143)\ttotal: 51s\tremaining: 4m 55s\n",
      "147:\tlearn: 0.4508439\ttest: 0.4531496\tbest: 0.4531496 (147)\ttotal: 51.3s\tremaining: 4m 55s\n",
      "148:\tlearn: 0.4507784\ttest: 0.4531338\tbest: 0.4531338 (148)\ttotal: 51.6s\tremaining: 4m 54s\n",
      "149:\tlearn: 0.4506957\ttest: 0.4530834\tbest: 0.4530834 (149)\ttotal: 52s\tremaining: 4m 54s\n",
      "150:\tlearn: 0.4505578\ttest: 0.4528883\tbest: 0.4528883 (150)\ttotal: 52.3s\tremaining: 4m 53s\n",
      "151:\tlearn: 0.4504423\ttest: 0.4528614\tbest: 0.4528614 (151)\ttotal: 52.6s\tremaining: 4m 53s\n",
      "152:\tlearn: 0.4503394\ttest: 0.4528587\tbest: 0.4528587 (152)\ttotal: 52.9s\tremaining: 4m 53s\n",
      "153:\tlearn: 0.4502179\ttest: 0.4528410\tbest: 0.4528410 (153)\ttotal: 53.3s\tremaining: 4m 52s\n",
      "154:\tlearn: 0.4501115\ttest: 0.4528287\tbest: 0.4528287 (154)\ttotal: 53.6s\tremaining: 4m 52s\n",
      "155:\tlearn: 0.4500411\ttest: 0.4528027\tbest: 0.4528027 (155)\ttotal: 53.9s\tremaining: 4m 51s\n",
      "156:\tlearn: 0.4499003\ttest: 0.4528130\tbest: 0.4528027 (155)\ttotal: 54.2s\tremaining: 4m 51s\n",
      "157:\tlearn: 0.4498214\ttest: 0.4528182\tbest: 0.4528027 (155)\ttotal: 54.6s\tremaining: 4m 50s\n",
      "158:\tlearn: 0.4496644\ttest: 0.4528063\tbest: 0.4528027 (155)\ttotal: 55s\tremaining: 4m 50s\n",
      "159:\tlearn: 0.4495676\ttest: 0.4527617\tbest: 0.4527617 (159)\ttotal: 55.3s\tremaining: 4m 50s\n",
      "160:\tlearn: 0.4494834\ttest: 0.4527567\tbest: 0.4527567 (160)\ttotal: 55.7s\tremaining: 4m 50s\n",
      "161:\tlearn: 0.4493666\ttest: 0.4527673\tbest: 0.4527567 (160)\ttotal: 56.1s\tremaining: 4m 49s\n",
      "162:\tlearn: 0.4492888\ttest: 0.4527400\tbest: 0.4527400 (162)\ttotal: 56.4s\tremaining: 4m 49s\n",
      "163:\tlearn: 0.4492115\ttest: 0.4527644\tbest: 0.4527400 (162)\ttotal: 56.7s\tremaining: 4m 48s\n",
      "164:\tlearn: 0.4491528\ttest: 0.4527464\tbest: 0.4527400 (162)\ttotal: 57s\tremaining: 4m 48s\n",
      "165:\tlearn: 0.4490568\ttest: 0.4527584\tbest: 0.4527400 (162)\ttotal: 57.3s\tremaining: 4m 47s\n",
      "166:\tlearn: 0.4489584\ttest: 0.4527629\tbest: 0.4527400 (162)\ttotal: 57.7s\tremaining: 4m 47s\n",
      "167:\tlearn: 0.4488598\ttest: 0.4527443\tbest: 0.4527400 (162)\ttotal: 58s\tremaining: 4m 47s\n",
      "168:\tlearn: 0.4488410\ttest: 0.4527445\tbest: 0.4527400 (162)\ttotal: 58.3s\tremaining: 4m 46s\n",
      "169:\tlearn: 0.4487339\ttest: 0.4527659\tbest: 0.4527400 (162)\ttotal: 58.6s\tremaining: 4m 46s\n",
      "170:\tlearn: 0.4486021\ttest: 0.4527686\tbest: 0.4527400 (162)\ttotal: 58.9s\tremaining: 4m 45s\n",
      "171:\tlearn: 0.4484679\ttest: 0.4527455\tbest: 0.4527400 (162)\ttotal: 59.2s\tremaining: 4m 45s\n",
      "172:\tlearn: 0.4484378\ttest: 0.4527371\tbest: 0.4527371 (172)\ttotal: 59.5s\tremaining: 4m 44s\n",
      "173:\tlearn: 0.4482933\ttest: 0.4526439\tbest: 0.4526439 (173)\ttotal: 59.9s\tremaining: 4m 44s\n",
      "174:\tlearn: 0.4482097\ttest: 0.4526298\tbest: 0.4526298 (174)\ttotal: 1m\tremaining: 4m 43s\n",
      "175:\tlearn: 0.4481132\ttest: 0.4526332\tbest: 0.4526298 (174)\ttotal: 1m\tremaining: 4m 43s\n",
      "176:\tlearn: 0.4480312\ttest: 0.4526494\tbest: 0.4526298 (174)\ttotal: 1m\tremaining: 4m 42s\n",
      "177:\tlearn: 0.4478930\ttest: 0.4526203\tbest: 0.4526203 (177)\ttotal: 1m 1s\tremaining: 4m 42s\n",
      "178:\tlearn: 0.4478578\ttest: 0.4526148\tbest: 0.4526148 (178)\ttotal: 1m 1s\tremaining: 4m 42s\n",
      "179:\tlearn: 0.4478292\ttest: 0.4526170\tbest: 0.4526148 (178)\ttotal: 1m 1s\tremaining: 4m 41s\n",
      "180:\tlearn: 0.4477182\ttest: 0.4525864\tbest: 0.4525864 (180)\ttotal: 1m 2s\tremaining: 4m 41s\n",
      "181:\tlearn: 0.4476530\ttest: 0.4525730\tbest: 0.4525730 (181)\ttotal: 1m 2s\tremaining: 4m 41s\n",
      "182:\tlearn: 0.4475894\ttest: 0.4525657\tbest: 0.4525657 (182)\ttotal: 1m 3s\tremaining: 4m 41s\n",
      "183:\tlearn: 0.4475156\ttest: 0.4525503\tbest: 0.4525503 (183)\ttotal: 1m 3s\tremaining: 4m 41s\n",
      "184:\tlearn: 0.4473997\ttest: 0.4525267\tbest: 0.4525267 (184)\ttotal: 1m 3s\tremaining: 4m 41s\n",
      "185:\tlearn: 0.4472943\ttest: 0.4523880\tbest: 0.4523880 (185)\ttotal: 1m 4s\tremaining: 4m 41s\n",
      "186:\tlearn: 0.4472004\ttest: 0.4523704\tbest: 0.4523704 (186)\ttotal: 1m 4s\tremaining: 4m 40s\n",
      "187:\tlearn: 0.4471103\ttest: 0.4524180\tbest: 0.4523704 (186)\ttotal: 1m 4s\tremaining: 4m 40s\n",
      "188:\tlearn: 0.4470627\ttest: 0.4524139\tbest: 0.4523704 (186)\ttotal: 1m 5s\tremaining: 4m 40s\n",
      "189:\tlearn: 0.4470104\ttest: 0.4524243\tbest: 0.4523704 (186)\ttotal: 1m 5s\tremaining: 4m 39s\n",
      "190:\tlearn: 0.4469546\ttest: 0.4524146\tbest: 0.4523704 (186)\ttotal: 1m 6s\tremaining: 4m 39s\n",
      "191:\tlearn: 0.4467797\ttest: 0.4522261\tbest: 0.4522261 (191)\ttotal: 1m 6s\tremaining: 4m 39s\n",
      "192:\tlearn: 0.4467261\ttest: 0.4522475\tbest: 0.4522261 (191)\ttotal: 1m 6s\tremaining: 4m 39s\n",
      "193:\tlearn: 0.4466692\ttest: 0.4522662\tbest: 0.4522261 (191)\ttotal: 1m 7s\tremaining: 4m 38s\n",
      "194:\tlearn: 0.4466013\ttest: 0.4522666\tbest: 0.4522261 (191)\ttotal: 1m 7s\tremaining: 4m 38s\n",
      "195:\tlearn: 0.4465697\ttest: 0.4522655\tbest: 0.4522261 (191)\ttotal: 1m 7s\tremaining: 4m 38s\n",
      "196:\tlearn: 0.4464894\ttest: 0.4522951\tbest: 0.4522261 (191)\ttotal: 1m 8s\tremaining: 4m 37s\n",
      "197:\tlearn: 0.4463900\ttest: 0.4523179\tbest: 0.4522261 (191)\ttotal: 1m 8s\tremaining: 4m 37s\n",
      "198:\tlearn: 0.4463068\ttest: 0.4523217\tbest: 0.4522261 (191)\ttotal: 1m 8s\tremaining: 4m 36s\n",
      "199:\tlearn: 0.4462667\ttest: 0.4523089\tbest: 0.4522261 (191)\ttotal: 1m 9s\tremaining: 4m 36s\n",
      "200:\tlearn: 0.4462188\ttest: 0.4523132\tbest: 0.4522261 (191)\ttotal: 1m 9s\tremaining: 4m 35s\n",
      "201:\tlearn: 0.4461312\ttest: 0.4523329\tbest: 0.4522261 (191)\ttotal: 1m 9s\tremaining: 4m 35s\n",
      "Stopped by overfitting detector  (10 iterations wait)\n",
      "\n",
      "bestTest = 0.4522261142\n",
      "bestIteration = 191\n",
      "\n",
      "Shrink model to first 192 iterations.\n"
     ]
    },
    {
     "data": {
      "text/plain": [
       "<catboost.core.CatBoostClassifier at 0x7833e3641330>"
      ]
     },
     "execution_count": 14,
     "metadata": {},
     "output_type": "execute_result"
    }
   ],
   "source": [
    "clf.fit(train_X, train_y, eval_set=(valid_X, valid_y), early_stopping_rounds=10, logging_level='Verbose')"
   ]
  },
  {
   "cell_type": "code",
   "execution_count": 15,
   "id": "2d555bdb",
   "metadata": {
    "execution": {
     "iopub.execute_input": "2023-08-09T03:14:32.716443Z",
     "iopub.status.busy": "2023-08-09T03:14:32.715186Z",
     "iopub.status.idle": "2023-08-09T03:14:34.265388Z",
     "shell.execute_reply": "2023-08-09T03:14:34.263613Z"
    },
    "papermill": {
     "duration": 1.58789,
     "end_time": "2023-08-09T03:14:34.268465",
     "exception": false,
     "start_time": "2023-08-09T03:14:32.680575",
     "status": "completed"
    },
    "tags": []
   },
   "outputs": [],
   "source": [
    "pred_test = clf.predict_proba(test_ft_df)[:, 1]\n",
    "sub_df = pd.DataFrame({\n",
    "    \"ID\": test_df[\"ID\"], \n",
    "    \"PredictedProb\": pred_test\n",
    "}).to_csv(\"tanaka_sub_cat.csv\", index=False)"
   ]
  },
  {
   "cell_type": "markdown",
   "id": "6265ab1c",
   "metadata": {
    "papermill": {
     "duration": 0.029937,
     "end_time": "2023-08-09T03:14:34.328958",
     "exception": false,
     "start_time": "2023-08-09T03:14:34.299021",
     "status": "completed"
    },
    "tags": []
   },
   "source": [
    "public 0.4489 めちゃくちゃ良い\n",
    "\n",
    "これ以上良くなるとは思えないけど、一応 XGBoost にやった欠損値処理を入れてやってみる"
   ]
  },
  {
   "cell_type": "markdown",
   "id": "328a5b0e",
   "metadata": {
    "papermill": {
     "duration": 0.029514,
     "end_time": "2023-08-09T03:14:34.387436",
     "exception": false,
     "start_time": "2023-08-09T03:14:34.357922",
     "status": "completed"
    },
    "tags": []
   },
   "source": [
    "## XGBoost でやった欠損値処理入れる"
   ]
  },
  {
   "cell_type": "code",
   "execution_count": 16,
   "id": "6ec2f840",
   "metadata": {
    "execution": {
     "iopub.execute_input": "2023-08-09T03:14:34.447653Z",
     "iopub.status.busy": "2023-08-09T03:14:34.447203Z",
     "iopub.status.idle": "2023-08-09T03:14:34.641841Z",
     "shell.execute_reply": "2023-08-09T03:14:34.640418Z"
    },
    "papermill": {
     "duration": 0.22813,
     "end_time": "2023-08-09T03:14:34.645029",
     "exception": false,
     "start_time": "2023-08-09T03:14:34.416899",
     "status": "completed"
    },
    "tags": []
   },
   "outputs": [],
   "source": [
    "train_test_df = pd.concat([train_df, test_df])"
   ]
  },
  {
   "cell_type": "code",
   "execution_count": 17,
   "id": "12e8ff1c",
   "metadata": {
    "execution": {
     "iopub.execute_input": "2023-08-09T03:14:34.707970Z",
     "iopub.status.busy": "2023-08-09T03:14:34.707499Z",
     "iopub.status.idle": "2023-08-09T03:14:36.940474Z",
     "shell.execute_reply": "2023-08-09T03:14:36.939273Z"
    },
    "papermill": {
     "duration": 2.267078,
     "end_time": "2023-08-09T03:14:36.943392",
     "exception": false,
     "start_time": "2023-08-09T03:14:34.676314",
     "status": "completed"
    },
    "tags": []
   },
   "outputs": [],
   "source": [
    "# numeric\n",
    "for c in numeric_columns:\n",
    "    nan_ratio = train_test_df[c].isna().mean()\n",
    "\n",
    "    if nan_ratio < 0.1:\n",
    "        # nan が 10% 未満なら平均値で埋める．(あんまり考慮したくない)\n",
    "        column_mean = train_test_df[c].mean()\n",
    "        train_test_df[c] = train_test_df[c].fillna(column_mean)\n",
    "    else:\n",
    "        # nan が 10% 以上あれば -999 で埋める．(モデルが考慮できるようにする)\n",
    "        train_test_df[c] = train_test_df[c].fillna(-999)\n",
    "    \n",
    "# categorical\n",
    "for c in categorical_columns:\n",
    "    nan_count = train_test_df[c].isna().sum()\n",
    "\n",
    "    if nan_count <= 10:\n",
    "        # nan が 10個以下なら，最頻値で埋める．(あんまり考慮したくない)\n",
    "        train_test_df[c] = train_test_df[c].fillna(train_test_df[c].mode()[0])\n",
    "    else:\n",
    "        # nan が 10個より多いなら，カテゴリとして扱う．(モデルが考慮できるようにする)\n",
    "        train_test_df[c] = train_test_df[c].fillna(train_test_df[c].mode()[0])"
   ]
  },
  {
   "cell_type": "code",
   "execution_count": 18,
   "id": "4a325940",
   "metadata": {
    "execution": {
     "iopub.execute_input": "2023-08-09T03:14:37.003583Z",
     "iopub.status.busy": "2023-08-09T03:14:37.003175Z",
     "iopub.status.idle": "2023-08-09T03:14:38.519564Z",
     "shell.execute_reply": "2023-08-09T03:14:38.518240Z"
    },
    "papermill": {
     "duration": 1.550042,
     "end_time": "2023-08-09T03:14:38.522411",
     "exception": false,
     "start_time": "2023-08-09T03:14:36.972369",
     "status": "completed"
    },
    "tags": []
   },
   "outputs": [],
   "source": [
    "for c in categorical_columns:\n",
    "    le = LabelEncoder()\n",
    "    train_test_df[c] = le.fit_transform(train_test_df[c])"
   ]
  },
  {
   "cell_type": "code",
   "execution_count": 19,
   "id": "eb8c0475",
   "metadata": {
    "execution": {
     "iopub.execute_input": "2023-08-09T03:14:38.585400Z",
     "iopub.status.busy": "2023-08-09T03:14:38.584746Z",
     "iopub.status.idle": "2023-08-09T03:14:39.119213Z",
     "shell.execute_reply": "2023-08-09T03:14:39.118050Z"
    },
    "papermill": {
     "duration": 0.569675,
     "end_time": "2023-08-09T03:14:39.122133",
     "exception": false,
     "start_time": "2023-08-09T03:14:38.552458",
     "status": "completed"
    },
    "tags": []
   },
   "outputs": [],
   "source": [
    "train_ft_df = train_test_df[train_test_df['target'].notna()][use_cols]\n",
    "train_y_df = train_test_df[train_test_df['target'].notna()]['target'].astype(int)\n",
    "test_ft_df = train_test_df[train_test_df['target'].isna()][use_cols]\n",
    "\n",
    "train_X, valid_X, train_y, valid_y = train_test_split(train_ft_df, train_y_df, test_size=0.2, shuffle=True)"
   ]
  },
  {
   "cell_type": "code",
   "execution_count": 20,
   "id": "fd88cb06",
   "metadata": {
    "execution": {
     "iopub.execute_input": "2023-08-09T03:14:39.184024Z",
     "iopub.status.busy": "2023-08-09T03:14:39.182936Z",
     "iopub.status.idle": "2023-08-09T03:14:39.188321Z",
     "shell.execute_reply": "2023-08-09T03:14:39.187421Z"
    },
    "papermill": {
     "duration": 0.039282,
     "end_time": "2023-08-09T03:14:39.190713",
     "exception": false,
     "start_time": "2023-08-09T03:14:39.151431",
     "status": "completed"
    },
    "tags": []
   },
   "outputs": [],
   "source": [
    "clf = CatBoostClassifier(iterations=1000, loss_function='Logloss', cat_features=categorical_columns)"
   ]
  },
  {
   "cell_type": "code",
   "execution_count": 21,
   "id": "1d183329",
   "metadata": {
    "execution": {
     "iopub.execute_input": "2023-08-09T03:14:39.255028Z",
     "iopub.status.busy": "2023-08-09T03:14:39.254337Z",
     "iopub.status.idle": "2023-08-09T03:15:53.443677Z",
     "shell.execute_reply": "2023-08-09T03:15:53.442499Z"
    },
    "papermill": {
     "duration": 74.223508,
     "end_time": "2023-08-09T03:15:53.446673",
     "exception": false,
     "start_time": "2023-08-09T03:14:39.223165",
     "status": "completed"
    },
    "tags": []
   },
   "outputs": [
    {
     "name": "stdout",
     "output_type": "stream",
     "text": [
      "Learning rate set to 0.096678\n",
      "0:\tlearn: 0.6501422\ttest: 0.6498061\tbest: 0.6498061 (0)\ttotal: 383ms\tremaining: 6m 22s\n",
      "1:\tlearn: 0.6169190\ttest: 0.6162776\tbest: 0.6162776 (1)\ttotal: 735ms\tremaining: 6m 6s\n",
      "2:\tlearn: 0.5876432\ttest: 0.5869233\tbest: 0.5869233 (2)\ttotal: 1.1s\tremaining: 6m 4s\n",
      "3:\tlearn: 0.5676105\ttest: 0.5668022\tbest: 0.5668022 (3)\ttotal: 1.48s\tremaining: 6m 7s\n",
      "4:\tlearn: 0.5511861\ttest: 0.5502456\tbest: 0.5502456 (4)\ttotal: 1.83s\tremaining: 6m 3s\n",
      "5:\tlearn: 0.5392388\ttest: 0.5382665\tbest: 0.5382665 (5)\ttotal: 2.19s\tremaining: 6m 3s\n",
      "6:\tlearn: 0.5284741\ttest: 0.5274406\tbest: 0.5274406 (6)\ttotal: 2.54s\tremaining: 6m\n",
      "7:\tlearn: 0.5197446\ttest: 0.5186236\tbest: 0.5186236 (7)\ttotal: 2.88s\tremaining: 5m 57s\n",
      "8:\tlearn: 0.5115953\ttest: 0.5105434\tbest: 0.5105434 (8)\ttotal: 3.24s\tremaining: 5m 57s\n",
      "9:\tlearn: 0.5060063\ttest: 0.5047548\tbest: 0.5047548 (9)\ttotal: 3.57s\tremaining: 5m 53s\n",
      "10:\tlearn: 0.5010119\ttest: 0.4998579\tbest: 0.4998579 (10)\ttotal: 3.91s\tremaining: 5m 51s\n",
      "11:\tlearn: 0.4964612\ttest: 0.4952838\tbest: 0.4952838 (11)\ttotal: 4.25s\tremaining: 5m 50s\n",
      "12:\tlearn: 0.4929078\ttest: 0.4917089\tbest: 0.4917089 (12)\ttotal: 4.56s\tremaining: 5m 45s\n",
      "13:\tlearn: 0.4900804\ttest: 0.4888931\tbest: 0.4888931 (13)\ttotal: 4.9s\tremaining: 5m 45s\n",
      "14:\tlearn: 0.4879818\ttest: 0.4867313\tbest: 0.4867313 (14)\ttotal: 5.23s\tremaining: 5m 43s\n",
      "15:\tlearn: 0.4864128\ttest: 0.4851119\tbest: 0.4851119 (15)\ttotal: 5.54s\tremaining: 5m 40s\n",
      "16:\tlearn: 0.4848859\ttest: 0.4836203\tbest: 0.4836203 (16)\ttotal: 5.9s\tremaining: 5m 41s\n",
      "17:\tlearn: 0.4833227\ttest: 0.4820056\tbest: 0.4820056 (17)\ttotal: 6.2s\tremaining: 5m 38s\n",
      "18:\tlearn: 0.4823148\ttest: 0.4810055\tbest: 0.4810055 (18)\ttotal: 6.41s\tremaining: 5m 31s\n",
      "19:\tlearn: 0.4812275\ttest: 0.4798694\tbest: 0.4798694 (19)\ttotal: 6.74s\tremaining: 5m 30s\n",
      "20:\tlearn: 0.4802078\ttest: 0.4788994\tbest: 0.4788994 (20)\ttotal: 7.09s\tremaining: 5m 30s\n",
      "21:\tlearn: 0.4792511\ttest: 0.4780784\tbest: 0.4780784 (21)\ttotal: 7.51s\tremaining: 5m 33s\n",
      "22:\tlearn: 0.4784785\ttest: 0.4773256\tbest: 0.4773256 (22)\ttotal: 7.83s\tremaining: 5m 32s\n",
      "23:\tlearn: 0.4777150\ttest: 0.4765095\tbest: 0.4765095 (23)\ttotal: 8.13s\tremaining: 5m 30s\n",
      "24:\tlearn: 0.4770143\ttest: 0.4758503\tbest: 0.4758503 (24)\ttotal: 8.47s\tremaining: 5m 30s\n",
      "25:\tlearn: 0.4765354\ttest: 0.4754104\tbest: 0.4754104 (25)\ttotal: 8.79s\tremaining: 5m 29s\n",
      "26:\tlearn: 0.4761510\ttest: 0.4750807\tbest: 0.4750807 (26)\ttotal: 9.12s\tremaining: 5m 28s\n",
      "27:\tlearn: 0.4756452\ttest: 0.4745737\tbest: 0.4745737 (27)\ttotal: 9.47s\tremaining: 5m 28s\n",
      "28:\tlearn: 0.4751600\ttest: 0.4741698\tbest: 0.4741698 (28)\ttotal: 9.81s\tremaining: 5m 28s\n",
      "29:\tlearn: 0.4747616\ttest: 0.4738214\tbest: 0.4738214 (29)\ttotal: 10.1s\tremaining: 5m 27s\n",
      "30:\tlearn: 0.4744436\ttest: 0.4735454\tbest: 0.4735454 (30)\ttotal: 10.5s\tremaining: 5m 27s\n",
      "31:\tlearn: 0.4740847\ttest: 0.4731880\tbest: 0.4731880 (31)\ttotal: 10.8s\tremaining: 5m 28s\n",
      "32:\tlearn: 0.4732064\ttest: 0.4721339\tbest: 0.4721339 (32)\ttotal: 11.3s\tremaining: 5m 29s\n",
      "33:\tlearn: 0.4730147\ttest: 0.4720046\tbest: 0.4720046 (33)\ttotal: 11.6s\tremaining: 5m 29s\n",
      "34:\tlearn: 0.4721374\ttest: 0.4708373\tbest: 0.4708373 (34)\ttotal: 12s\tremaining: 5m 30s\n",
      "35:\tlearn: 0.4714801\ttest: 0.4702726\tbest: 0.4702726 (35)\ttotal: 12.3s\tremaining: 5m 29s\n",
      "36:\tlearn: 0.4710824\ttest: 0.4699591\tbest: 0.4699591 (36)\ttotal: 12.6s\tremaining: 5m 28s\n",
      "37:\tlearn: 0.4709305\ttest: 0.4698853\tbest: 0.4698853 (37)\ttotal: 12.9s\tremaining: 5m 27s\n",
      "38:\tlearn: 0.4706938\ttest: 0.4695897\tbest: 0.4695897 (38)\ttotal: 13.2s\tremaining: 5m 26s\n",
      "39:\tlearn: 0.4703802\ttest: 0.4693109\tbest: 0.4693109 (39)\ttotal: 13.5s\tremaining: 5m 25s\n",
      "40:\tlearn: 0.4701805\ttest: 0.4691926\tbest: 0.4691926 (40)\ttotal: 13.9s\tremaining: 5m 24s\n",
      "41:\tlearn: 0.4699786\ttest: 0.4690599\tbest: 0.4690599 (41)\ttotal: 14.3s\tremaining: 5m 25s\n",
      "42:\tlearn: 0.4693852\ttest: 0.4683476\tbest: 0.4683476 (42)\ttotal: 14.7s\tremaining: 5m 26s\n",
      "43:\tlearn: 0.4690769\ttest: 0.4681174\tbest: 0.4681174 (43)\ttotal: 15.1s\tremaining: 5m 27s\n",
      "44:\tlearn: 0.4686236\ttest: 0.4677072\tbest: 0.4677072 (44)\ttotal: 15.4s\tremaining: 5m 26s\n",
      "45:\tlearn: 0.4684575\ttest: 0.4675917\tbest: 0.4675917 (45)\ttotal: 15.7s\tremaining: 5m 26s\n",
      "46:\tlearn: 0.4678714\ttest: 0.4668275\tbest: 0.4668275 (46)\ttotal: 16.1s\tremaining: 5m 27s\n",
      "47:\tlearn: 0.4676530\ttest: 0.4666024\tbest: 0.4666024 (47)\ttotal: 16.6s\tremaining: 5m 29s\n",
      "48:\tlearn: 0.4674650\ttest: 0.4664826\tbest: 0.4664826 (48)\ttotal: 17.1s\tremaining: 5m 31s\n",
      "49:\tlearn: 0.4672863\ttest: 0.4664189\tbest: 0.4664189 (49)\ttotal: 17.6s\tremaining: 5m 33s\n",
      "50:\tlearn: 0.4670995\ttest: 0.4662895\tbest: 0.4662895 (50)\ttotal: 17.9s\tremaining: 5m 32s\n",
      "51:\tlearn: 0.4668774\ttest: 0.4661060\tbest: 0.4661060 (51)\ttotal: 18.2s\tremaining: 5m 31s\n",
      "52:\tlearn: 0.4663053\ttest: 0.4655068\tbest: 0.4655068 (52)\ttotal: 18.6s\tremaining: 5m 32s\n",
      "53:\tlearn: 0.4659817\ttest: 0.4652354\tbest: 0.4652354 (53)\ttotal: 18.9s\tremaining: 5m 31s\n",
      "54:\tlearn: 0.4657545\ttest: 0.4651348\tbest: 0.4651348 (54)\ttotal: 19.3s\tremaining: 5m 31s\n",
      "55:\tlearn: 0.4656519\ttest: 0.4651009\tbest: 0.4651009 (55)\ttotal: 19.6s\tremaining: 5m 30s\n",
      "56:\tlearn: 0.4653524\ttest: 0.4648618\tbest: 0.4648618 (56)\ttotal: 20s\tremaining: 5m 30s\n",
      "57:\tlearn: 0.4646716\ttest: 0.4638519\tbest: 0.4638519 (57)\ttotal: 20.4s\tremaining: 5m 31s\n",
      "58:\tlearn: 0.4644330\ttest: 0.4636790\tbest: 0.4636790 (58)\ttotal: 20.7s\tremaining: 5m 30s\n",
      "59:\tlearn: 0.4643630\ttest: 0.4636559\tbest: 0.4636559 (59)\ttotal: 21.1s\tremaining: 5m 30s\n",
      "60:\tlearn: 0.4639655\ttest: 0.4631635\tbest: 0.4631635 (60)\ttotal: 21.4s\tremaining: 5m 29s\n",
      "61:\tlearn: 0.4632569\ttest: 0.4620938\tbest: 0.4620938 (61)\ttotal: 21.8s\tremaining: 5m 30s\n",
      "62:\tlearn: 0.4630869\ttest: 0.4619838\tbest: 0.4619838 (62)\ttotal: 22.2s\tremaining: 5m 29s\n",
      "63:\tlearn: 0.4625955\ttest: 0.4612990\tbest: 0.4612990 (63)\ttotal: 22.5s\tremaining: 5m 29s\n",
      "64:\tlearn: 0.4622266\ttest: 0.4608353\tbest: 0.4608353 (64)\ttotal: 22.9s\tremaining: 5m 30s\n",
      "65:\tlearn: 0.4620352\ttest: 0.4605994\tbest: 0.4605994 (65)\ttotal: 23.3s\tremaining: 5m 29s\n",
      "66:\tlearn: 0.4618305\ttest: 0.4604375\tbest: 0.4604375 (66)\ttotal: 23.6s\tremaining: 5m 29s\n",
      "67:\tlearn: 0.4614161\ttest: 0.4598056\tbest: 0.4598056 (67)\ttotal: 24.1s\tremaining: 5m 29s\n",
      "68:\tlearn: 0.4612617\ttest: 0.4596718\tbest: 0.4596718 (68)\ttotal: 24.4s\tremaining: 5m 28s\n",
      "69:\tlearn: 0.4608879\ttest: 0.4592308\tbest: 0.4592308 (69)\ttotal: 24.8s\tremaining: 5m 29s\n",
      "70:\tlearn: 0.4607911\ttest: 0.4591802\tbest: 0.4591802 (70)\ttotal: 25.1s\tremaining: 5m 28s\n",
      "71:\tlearn: 0.4606646\ttest: 0.4590569\tbest: 0.4590569 (71)\ttotal: 25.4s\tremaining: 5m 27s\n",
      "72:\tlearn: 0.4605976\ttest: 0.4590273\tbest: 0.4590273 (72)\ttotal: 25.8s\tremaining: 5m 27s\n",
      "73:\tlearn: 0.4604444\ttest: 0.4589471\tbest: 0.4589471 (73)\ttotal: 26.2s\tremaining: 5m 27s\n",
      "74:\tlearn: 0.4603049\ttest: 0.4588761\tbest: 0.4588761 (74)\ttotal: 26.5s\tremaining: 5m 27s\n",
      "75:\tlearn: 0.4601568\ttest: 0.4588700\tbest: 0.4588700 (75)\ttotal: 26.9s\tremaining: 5m 26s\n",
      "76:\tlearn: 0.4598348\ttest: 0.4585745\tbest: 0.4585745 (76)\ttotal: 27.4s\tremaining: 5m 28s\n",
      "77:\tlearn: 0.4597236\ttest: 0.4585367\tbest: 0.4585367 (77)\ttotal: 27.8s\tremaining: 5m 28s\n",
      "78:\tlearn: 0.4596493\ttest: 0.4585128\tbest: 0.4585128 (78)\ttotal: 28.1s\tremaining: 5m 27s\n",
      "79:\tlearn: 0.4595194\ttest: 0.4584735\tbest: 0.4584735 (79)\ttotal: 28.5s\tremaining: 5m 27s\n",
      "80:\tlearn: 0.4594229\ttest: 0.4584502\tbest: 0.4584502 (80)\ttotal: 28.8s\tremaining: 5m 26s\n",
      "81:\tlearn: 0.4593032\ttest: 0.4583982\tbest: 0.4583982 (81)\ttotal: 29.1s\tremaining: 5m 26s\n",
      "82:\tlearn: 0.4591687\ttest: 0.4583692\tbest: 0.4583692 (82)\ttotal: 29.5s\tremaining: 5m 25s\n",
      "83:\tlearn: 0.4590284\ttest: 0.4583167\tbest: 0.4583167 (83)\ttotal: 29.8s\tremaining: 5m 24s\n",
      "84:\tlearn: 0.4588212\ttest: 0.4581089\tbest: 0.4581089 (84)\ttotal: 30.2s\tremaining: 5m 25s\n",
      "85:\tlearn: 0.4587100\ttest: 0.4580745\tbest: 0.4580745 (85)\ttotal: 30.6s\tremaining: 5m 25s\n",
      "86:\tlearn: 0.4584924\ttest: 0.4578430\tbest: 0.4578430 (86)\ttotal: 31.1s\tremaining: 5m 26s\n",
      "87:\tlearn: 0.4583868\ttest: 0.4578390\tbest: 0.4578390 (87)\ttotal: 31.4s\tremaining: 5m 25s\n",
      "88:\tlearn: 0.4583292\ttest: 0.4578272\tbest: 0.4578272 (88)\ttotal: 31.7s\tremaining: 5m 24s\n",
      "89:\tlearn: 0.4582309\ttest: 0.4578223\tbest: 0.4578223 (89)\ttotal: 32s\tremaining: 5m 23s\n",
      "90:\tlearn: 0.4581531\ttest: 0.4577946\tbest: 0.4577946 (90)\ttotal: 32.4s\tremaining: 5m 23s\n",
      "91:\tlearn: 0.4581037\ttest: 0.4577836\tbest: 0.4577836 (91)\ttotal: 32.7s\tremaining: 5m 23s\n",
      "92:\tlearn: 0.4578741\ttest: 0.4575540\tbest: 0.4575540 (92)\ttotal: 33.1s\tremaining: 5m 23s\n",
      "93:\tlearn: 0.4577660\ttest: 0.4574898\tbest: 0.4574898 (93)\ttotal: 33.5s\tremaining: 5m 22s\n",
      "94:\tlearn: 0.4577049\ttest: 0.4574145\tbest: 0.4574145 (94)\ttotal: 33.8s\tremaining: 5m 22s\n",
      "95:\tlearn: 0.4575667\ttest: 0.4573919\tbest: 0.4573919 (95)\ttotal: 34.2s\tremaining: 5m 21s\n",
      "96:\tlearn: 0.4574755\ttest: 0.4574009\tbest: 0.4573919 (95)\ttotal: 34.5s\tremaining: 5m 21s\n",
      "97:\tlearn: 0.4574112\ttest: 0.4573941\tbest: 0.4573919 (95)\ttotal: 34.9s\tremaining: 5m 20s\n",
      "98:\tlearn: 0.4573511\ttest: 0.4573833\tbest: 0.4573833 (98)\ttotal: 35.2s\tremaining: 5m 19s\n",
      "99:\tlearn: 0.4572192\ttest: 0.4572114\tbest: 0.4572114 (99)\ttotal: 35.5s\tremaining: 5m 19s\n",
      "100:\tlearn: 0.4571297\ttest: 0.4571837\tbest: 0.4571837 (100)\ttotal: 35.8s\tremaining: 5m 18s\n",
      "101:\tlearn: 0.4569725\ttest: 0.4569784\tbest: 0.4569784 (101)\ttotal: 36.3s\tremaining: 5m 19s\n",
      "102:\tlearn: 0.4567962\ttest: 0.4567800\tbest: 0.4567800 (102)\ttotal: 36.7s\tremaining: 5m 19s\n",
      "103:\tlearn: 0.4566491\ttest: 0.4566975\tbest: 0.4566975 (103)\ttotal: 37s\tremaining: 5m 19s\n",
      "104:\tlearn: 0.4565318\ttest: 0.4567144\tbest: 0.4566975 (103)\ttotal: 37.5s\tremaining: 5m 19s\n",
      "105:\tlearn: 0.4564532\ttest: 0.4567052\tbest: 0.4566975 (103)\ttotal: 37.8s\tremaining: 5m 18s\n",
      "106:\tlearn: 0.4563917\ttest: 0.4567078\tbest: 0.4566975 (103)\ttotal: 38.1s\tremaining: 5m 17s\n",
      "107:\tlearn: 0.4563132\ttest: 0.4567000\tbest: 0.4566975 (103)\ttotal: 38.4s\tremaining: 5m 16s\n",
      "108:\tlearn: 0.4562079\ttest: 0.4566628\tbest: 0.4566628 (108)\ttotal: 38.7s\tremaining: 5m 16s\n",
      "109:\tlearn: 0.4561122\ttest: 0.4566169\tbest: 0.4566169 (109)\ttotal: 39s\tremaining: 5m 15s\n",
      "110:\tlearn: 0.4560246\ttest: 0.4566165\tbest: 0.4566165 (110)\ttotal: 39.3s\tremaining: 5m 15s\n",
      "111:\tlearn: 0.4559387\ttest: 0.4565943\tbest: 0.4565943 (111)\ttotal: 39.7s\tremaining: 5m 14s\n",
      "112:\tlearn: 0.4558268\ttest: 0.4565512\tbest: 0.4565512 (112)\ttotal: 40s\tremaining: 5m 14s\n",
      "113:\tlearn: 0.4557196\ttest: 0.4565353\tbest: 0.4565353 (113)\ttotal: 40.4s\tremaining: 5m 13s\n",
      "114:\tlearn: 0.4556096\ttest: 0.4564406\tbest: 0.4564406 (114)\ttotal: 40.7s\tremaining: 5m 13s\n",
      "115:\tlearn: 0.4555805\ttest: 0.4564307\tbest: 0.4564307 (115)\ttotal: 41.1s\tremaining: 5m 12s\n",
      "116:\tlearn: 0.4554620\ttest: 0.4563234\tbest: 0.4563234 (116)\ttotal: 41.5s\tremaining: 5m 13s\n",
      "117:\tlearn: 0.4552574\ttest: 0.4561317\tbest: 0.4561317 (117)\ttotal: 41.8s\tremaining: 5m 12s\n",
      "118:\tlearn: 0.4551926\ttest: 0.4561368\tbest: 0.4561317 (117)\ttotal: 42.2s\tremaining: 5m 12s\n",
      "119:\tlearn: 0.4550246\ttest: 0.4559114\tbest: 0.4559114 (119)\ttotal: 42.5s\tremaining: 5m 11s\n",
      "120:\tlearn: 0.4548513\ttest: 0.4558894\tbest: 0.4558894 (120)\ttotal: 42.9s\tremaining: 5m 11s\n",
      "121:\tlearn: 0.4545605\ttest: 0.4555496\tbest: 0.4555496 (121)\ttotal: 43.3s\tremaining: 5m 11s\n",
      "122:\tlearn: 0.4545020\ttest: 0.4555411\tbest: 0.4555411 (122)\ttotal: 43.6s\tremaining: 5m 10s\n",
      "123:\tlearn: 0.4543701\ttest: 0.4555484\tbest: 0.4555411 (122)\ttotal: 43.9s\tremaining: 5m 10s\n",
      "124:\tlearn: 0.4542952\ttest: 0.4555420\tbest: 0.4555411 (122)\ttotal: 44.2s\tremaining: 5m 9s\n",
      "125:\tlearn: 0.4542150\ttest: 0.4555055\tbest: 0.4555055 (125)\ttotal: 44.6s\tremaining: 5m 9s\n",
      "126:\tlearn: 0.4539482\ttest: 0.4550992\tbest: 0.4550992 (126)\ttotal: 45s\tremaining: 5m 9s\n",
      "127:\tlearn: 0.4538260\ttest: 0.4550766\tbest: 0.4550766 (127)\ttotal: 45.2s\tremaining: 5m 8s\n",
      "128:\tlearn: 0.4537411\ttest: 0.4550492\tbest: 0.4550492 (128)\ttotal: 45.6s\tremaining: 5m 7s\n",
      "129:\tlearn: 0.4536388\ttest: 0.4550404\tbest: 0.4550404 (129)\ttotal: 45.9s\tremaining: 5m 7s\n",
      "130:\tlearn: 0.4534854\ttest: 0.4549706\tbest: 0.4549706 (130)\ttotal: 46.2s\tremaining: 5m 6s\n",
      "131:\tlearn: 0.4534295\ttest: 0.4549659\tbest: 0.4549659 (131)\ttotal: 46.6s\tremaining: 5m 6s\n",
      "132:\tlearn: 0.4529999\ttest: 0.4542648\tbest: 0.4542648 (132)\ttotal: 46.9s\tremaining: 5m 5s\n",
      "133:\tlearn: 0.4527645\ttest: 0.4541533\tbest: 0.4541533 (133)\ttotal: 47.3s\tremaining: 5m 5s\n",
      "134:\tlearn: 0.4526478\ttest: 0.4541503\tbest: 0.4541503 (134)\ttotal: 47.6s\tremaining: 5m 5s\n",
      "135:\tlearn: 0.4525802\ttest: 0.4541297\tbest: 0.4541297 (135)\ttotal: 47.9s\tremaining: 5m 4s\n",
      "136:\tlearn: 0.4524359\ttest: 0.4540135\tbest: 0.4540135 (136)\ttotal: 48.3s\tremaining: 5m 4s\n",
      "137:\tlearn: 0.4523218\ttest: 0.4540169\tbest: 0.4540135 (136)\ttotal: 48.8s\tremaining: 5m 4s\n",
      "138:\tlearn: 0.4521379\ttest: 0.4539705\tbest: 0.4539705 (138)\ttotal: 49.3s\tremaining: 5m 5s\n",
      "139:\tlearn: 0.4519656\ttest: 0.4539101\tbest: 0.4539101 (139)\ttotal: 49.7s\tremaining: 5m 5s\n",
      "140:\tlearn: 0.4515496\ttest: 0.4532291\tbest: 0.4532291 (140)\ttotal: 50.2s\tremaining: 5m 5s\n",
      "141:\tlearn: 0.4514442\ttest: 0.4532018\tbest: 0.4532018 (141)\ttotal: 50.5s\tremaining: 5m 5s\n",
      "142:\tlearn: 0.4513308\ttest: 0.4531968\tbest: 0.4531968 (142)\ttotal: 50.8s\tremaining: 5m 4s\n",
      "143:\tlearn: 0.4512136\ttest: 0.4531840\tbest: 0.4531840 (143)\ttotal: 51.1s\tremaining: 5m 3s\n",
      "144:\tlearn: 0.4510842\ttest: 0.4532035\tbest: 0.4531840 (143)\ttotal: 51.5s\tremaining: 5m 3s\n",
      "145:\tlearn: 0.4510202\ttest: 0.4532034\tbest: 0.4531840 (143)\ttotal: 51.8s\tremaining: 5m 3s\n",
      "146:\tlearn: 0.4509118\ttest: 0.4531810\tbest: 0.4531810 (146)\ttotal: 52.1s\tremaining: 5m 2s\n",
      "147:\tlearn: 0.4507745\ttest: 0.4531259\tbest: 0.4531259 (147)\ttotal: 52.5s\tremaining: 5m 2s\n",
      "148:\tlearn: 0.4506972\ttest: 0.4530978\tbest: 0.4530978 (148)\ttotal: 52.8s\tremaining: 5m 1s\n",
      "149:\tlearn: 0.4506038\ttest: 0.4530152\tbest: 0.4530152 (149)\ttotal: 53.2s\tremaining: 5m 1s\n",
      "150:\tlearn: 0.4504625\ttest: 0.4529617\tbest: 0.4529617 (150)\ttotal: 53.5s\tremaining: 5m\n",
      "151:\tlearn: 0.4503395\ttest: 0.4529667\tbest: 0.4529617 (150)\ttotal: 53.9s\tremaining: 5m\n",
      "152:\tlearn: 0.4502318\ttest: 0.4528200\tbest: 0.4528200 (152)\ttotal: 54.2s\tremaining: 5m\n",
      "153:\tlearn: 0.4501161\ttest: 0.4527045\tbest: 0.4527045 (153)\ttotal: 54.6s\tremaining: 4m 59s\n",
      "154:\tlearn: 0.4499809\ttest: 0.4526787\tbest: 0.4526787 (154)\ttotal: 54.9s\tremaining: 4m 59s\n",
      "155:\tlearn: 0.4498525\ttest: 0.4526267\tbest: 0.4526267 (155)\ttotal: 55.3s\tremaining: 4m 59s\n",
      "156:\tlearn: 0.4497212\ttest: 0.4526139\tbest: 0.4526139 (156)\ttotal: 55.6s\tremaining: 4m 58s\n",
      "157:\tlearn: 0.4495783\ttest: 0.4525707\tbest: 0.4525707 (157)\ttotal: 55.9s\tremaining: 4m 58s\n",
      "158:\tlearn: 0.4494748\ttest: 0.4525814\tbest: 0.4525707 (157)\ttotal: 56.2s\tremaining: 4m 57s\n",
      "159:\tlearn: 0.4493950\ttest: 0.4525819\tbest: 0.4525707 (157)\ttotal: 56.6s\tremaining: 4m 57s\n",
      "160:\tlearn: 0.4493730\ttest: 0.4525712\tbest: 0.4525707 (157)\ttotal: 56.9s\tremaining: 4m 56s\n",
      "161:\tlearn: 0.4493094\ttest: 0.4525586\tbest: 0.4525586 (161)\ttotal: 57.3s\tremaining: 4m 56s\n",
      "162:\tlearn: 0.4492251\ttest: 0.4525245\tbest: 0.4525245 (162)\ttotal: 57.6s\tremaining: 4m 55s\n",
      "163:\tlearn: 0.4491772\ttest: 0.4524879\tbest: 0.4524879 (163)\ttotal: 58s\tremaining: 4m 55s\n",
      "164:\tlearn: 0.4490965\ttest: 0.4525101\tbest: 0.4524879 (163)\ttotal: 58.3s\tremaining: 4m 54s\n",
      "165:\tlearn: 0.4489069\ttest: 0.4524004\tbest: 0.4524004 (165)\ttotal: 58.6s\tremaining: 4m 54s\n",
      "166:\tlearn: 0.4487396\ttest: 0.4523074\tbest: 0.4523074 (166)\ttotal: 59s\tremaining: 4m 54s\n",
      "167:\tlearn: 0.4486865\ttest: 0.4523220\tbest: 0.4523074 (166)\ttotal: 59.3s\tremaining: 4m 53s\n",
      "168:\tlearn: 0.4485942\ttest: 0.4523289\tbest: 0.4523074 (166)\ttotal: 59.6s\tremaining: 4m 53s\n",
      "169:\tlearn: 0.4485434\ttest: 0.4522498\tbest: 0.4522498 (169)\ttotal: 59.9s\tremaining: 4m 52s\n",
      "170:\tlearn: 0.4484525\ttest: 0.4522271\tbest: 0.4522271 (170)\ttotal: 1m\tremaining: 4m 51s\n",
      "171:\tlearn: 0.4483912\ttest: 0.4522240\tbest: 0.4522240 (171)\ttotal: 1m\tremaining: 4m 51s\n",
      "172:\tlearn: 0.4483545\ttest: 0.4522092\tbest: 0.4522092 (172)\ttotal: 1m\tremaining: 4m 50s\n",
      "173:\tlearn: 0.4483057\ttest: 0.4522329\tbest: 0.4522092 (172)\ttotal: 1m 1s\tremaining: 4m 50s\n",
      "174:\tlearn: 0.4482862\ttest: 0.4522342\tbest: 0.4522092 (172)\ttotal: 1m 1s\tremaining: 4m 49s\n",
      "175:\tlearn: 0.4481659\ttest: 0.4522398\tbest: 0.4522092 (172)\ttotal: 1m 1s\tremaining: 4m 49s\n",
      "176:\tlearn: 0.4481284\ttest: 0.4522343\tbest: 0.4522092 (172)\ttotal: 1m 2s\tremaining: 4m 48s\n",
      "177:\tlearn: 0.4480201\ttest: 0.4521612\tbest: 0.4521612 (177)\ttotal: 1m 2s\tremaining: 4m 48s\n",
      "178:\tlearn: 0.4479976\ttest: 0.4521657\tbest: 0.4521612 (177)\ttotal: 1m 2s\tremaining: 4m 47s\n",
      "179:\tlearn: 0.4479018\ttest: 0.4520348\tbest: 0.4520348 (179)\ttotal: 1m 3s\tremaining: 4m 47s\n",
      "180:\tlearn: 0.4477482\ttest: 0.4519471\tbest: 0.4519471 (180)\ttotal: 1m 3s\tremaining: 4m 46s\n",
      "181:\tlearn: 0.4476273\ttest: 0.4519141\tbest: 0.4519141 (181)\ttotal: 1m 3s\tremaining: 4m 46s\n",
      "182:\tlearn: 0.4475137\ttest: 0.4518700\tbest: 0.4518700 (182)\ttotal: 1m 4s\tremaining: 4m 45s\n",
      "183:\tlearn: 0.4474082\ttest: 0.4518594\tbest: 0.4518594 (183)\ttotal: 1m 4s\tremaining: 4m 45s\n",
      "184:\tlearn: 0.4471998\ttest: 0.4515470\tbest: 0.4515470 (184)\ttotal: 1m 4s\tremaining: 4m 45s\n",
      "185:\tlearn: 0.4471433\ttest: 0.4515306\tbest: 0.4515306 (185)\ttotal: 1m 5s\tremaining: 4m 45s\n",
      "186:\tlearn: 0.4470598\ttest: 0.4514796\tbest: 0.4514796 (186)\ttotal: 1m 5s\tremaining: 4m 44s\n",
      "187:\tlearn: 0.4470053\ttest: 0.4514853\tbest: 0.4514796 (186)\ttotal: 1m 5s\tremaining: 4m 44s\n",
      "188:\tlearn: 0.4468829\ttest: 0.4514962\tbest: 0.4514796 (186)\ttotal: 1m 6s\tremaining: 4m 43s\n",
      "189:\tlearn: 0.4467778\ttest: 0.4515328\tbest: 0.4514796 (186)\ttotal: 1m 6s\tremaining: 4m 43s\n",
      "190:\tlearn: 0.4466322\ttest: 0.4515719\tbest: 0.4514796 (186)\ttotal: 1m 6s\tremaining: 4m 42s\n",
      "191:\tlearn: 0.4465059\ttest: 0.4514818\tbest: 0.4514796 (186)\ttotal: 1m 7s\tremaining: 4m 42s\n",
      "192:\tlearn: 0.4464429\ttest: 0.4515013\tbest: 0.4514796 (186)\ttotal: 1m 7s\tremaining: 4m 42s\n",
      "193:\tlearn: 0.4463847\ttest: 0.4514341\tbest: 0.4514341 (193)\ttotal: 1m 7s\tremaining: 4m 41s\n",
      "194:\tlearn: 0.4462764\ttest: 0.4512943\tbest: 0.4512943 (194)\ttotal: 1m 8s\tremaining: 4m 41s\n",
      "195:\tlearn: 0.4462148\ttest: 0.4512776\tbest: 0.4512776 (195)\ttotal: 1m 8s\tremaining: 4m 41s\n",
      "196:\tlearn: 0.4461251\ttest: 0.4512779\tbest: 0.4512776 (195)\ttotal: 1m 8s\tremaining: 4m 40s\n",
      "197:\tlearn: 0.4460800\ttest: 0.4512359\tbest: 0.4512359 (197)\ttotal: 1m 9s\tremaining: 4m 40s\n",
      "198:\tlearn: 0.4459778\ttest: 0.4512809\tbest: 0.4512359 (197)\ttotal: 1m 9s\tremaining: 4m 40s\n",
      "199:\tlearn: 0.4459059\ttest: 0.4512547\tbest: 0.4512359 (197)\ttotal: 1m 9s\tremaining: 4m 39s\n",
      "200:\tlearn: 0.4459012\ttest: 0.4512527\tbest: 0.4512359 (197)\ttotal: 1m 10s\tremaining: 4m 39s\n",
      "201:\tlearn: 0.4458236\ttest: 0.4512717\tbest: 0.4512359 (197)\ttotal: 1m 10s\tremaining: 4m 38s\n",
      "202:\tlearn: 0.4457537\ttest: 0.4512739\tbest: 0.4512359 (197)\ttotal: 1m 10s\tremaining: 4m 38s\n",
      "203:\tlearn: 0.4456331\ttest: 0.4512877\tbest: 0.4512359 (197)\ttotal: 1m 11s\tremaining: 4m 38s\n",
      "204:\tlearn: 0.4454936\ttest: 0.4512695\tbest: 0.4512359 (197)\ttotal: 1m 11s\tremaining: 4m 37s\n",
      "205:\tlearn: 0.4454314\ttest: 0.4512846\tbest: 0.4512359 (197)\ttotal: 1m 11s\tremaining: 4m 37s\n",
      "206:\tlearn: 0.4453461\ttest: 0.4512652\tbest: 0.4512359 (197)\ttotal: 1m 12s\tremaining: 4m 36s\n",
      "207:\tlearn: 0.4452652\ttest: 0.4512374\tbest: 0.4512359 (197)\ttotal: 1m 12s\tremaining: 4m 36s\n",
      "Stopped by overfitting detector  (10 iterations wait)\n",
      "\n",
      "bestTest = 0.451235933\n",
      "bestIteration = 197\n",
      "\n",
      "Shrink model to first 198 iterations.\n"
     ]
    },
    {
     "data": {
      "text/plain": [
       "<catboost.core.CatBoostClassifier at 0x7833e199f9a0>"
      ]
     },
     "execution_count": 21,
     "metadata": {},
     "output_type": "execute_result"
    }
   ],
   "source": [
    "clf.fit(train_X, train_y, eval_set=(valid_X, valid_y), early_stopping_rounds=10, logging_level='Verbose')"
   ]
  },
  {
   "cell_type": "code",
   "execution_count": 22,
   "id": "992134ee",
   "metadata": {
    "execution": {
     "iopub.execute_input": "2023-08-09T03:15:53.545743Z",
     "iopub.status.busy": "2023-08-09T03:15:53.544386Z",
     "iopub.status.idle": "2023-08-09T03:15:55.084607Z",
     "shell.execute_reply": "2023-08-09T03:15:55.083276Z"
    },
    "papermill": {
     "duration": 1.593349,
     "end_time": "2023-08-09T03:15:55.087731",
     "exception": false,
     "start_time": "2023-08-09T03:15:53.494382",
     "status": "completed"
    },
    "tags": []
   },
   "outputs": [],
   "source": [
    "pred_test = clf.predict_proba(test_ft_df)[:, 1]\n",
    "sub_df = pd.DataFrame({\n",
    "    \"ID\": test_df[\"ID\"], \n",
    "    \"PredictedProb\": pred_test\n",
    "}).to_csv(\"tanaka_sub_cat.csv\", index=False)"
   ]
  },
  {
   "cell_type": "markdown",
   "id": "09eef481",
   "metadata": {
    "papermill": {
     "duration": 0.047227,
     "end_time": "2023-08-09T03:15:55.182013",
     "exception": false,
     "start_time": "2023-08-09T03:15:55.134786",
     "status": "completed"
    },
    "tags": []
   },
   "source": [
    "public 0.452 で悪化．\n",
    "\n",
    "欠損値を埋めたりするときに，情報が損失してるせい．\n",
    "\n",
    "catboost の前処理が強すぎて，自作の前処理いらない．入れるとしても情報を増やすような前処理じゃないといけなさそう．"
   ]
  },
  {
   "cell_type": "markdown",
   "id": "30d8e272",
   "metadata": {
    "papermill": {
     "duration": 0.047227,
     "end_time": "2023-08-09T03:15:55.276384",
     "exception": false,
     "start_time": "2023-08-09T03:15:55.229157",
     "status": "completed"
    },
    "tags": []
   },
   "source": [
    "## 最後にハイパラチューニング版\n",
    "欠損値埋めなしで，ハイパラチューニングする．\n",
    "\n",
    "grid search したら時間がめちゃくちゃかかって終わらない上，そんなに精度も上がらなさそうだったので断念．\n",
    "\n",
    "提出用にもう一回だけ学習する"
   ]
  },
  {
   "cell_type": "code",
   "execution_count": 23,
   "id": "80b12128",
   "metadata": {
    "execution": {
     "iopub.execute_input": "2023-08-09T03:15:55.374327Z",
     "iopub.status.busy": "2023-08-09T03:15:55.373604Z",
     "iopub.status.idle": "2023-08-09T03:15:57.539947Z",
     "shell.execute_reply": "2023-08-09T03:15:57.538994Z"
    },
    "papermill": {
     "duration": 2.218807,
     "end_time": "2023-08-09T03:15:57.542855",
     "exception": false,
     "start_time": "2023-08-09T03:15:55.324048",
     "status": "completed"
    },
    "tags": []
   },
   "outputs": [],
   "source": [
    "train_test_df = pd.concat([train_df, test_df])\n",
    "for c in categorical_columns:\n",
    "    le = LabelEncoder()\n",
    "    train_test_df[c] = le.fit_transform(train_test_df[c])\n",
    "\n",
    "train_ft_df = train_test_df[train_test_df['target'].notna()][use_cols]\n",
    "train_y_df = train_test_df[train_test_df['target'].notna()]['target'].astype(int)\n",
    "test_ft_df = train_test_df[train_test_df['target'].isna()][use_cols]\n",
    "\n",
    "train_X, valid_X, train_y, valid_y = train_test_split(train_ft_df, train_y_df, test_size=0.2, shuffle=True)"
   ]
  },
  {
   "cell_type": "code",
   "execution_count": 24,
   "id": "4f4c88ed",
   "metadata": {
    "execution": {
     "iopub.execute_input": "2023-08-09T03:15:57.640311Z",
     "iopub.status.busy": "2023-08-09T03:15:57.639931Z",
     "iopub.status.idle": "2023-08-09T03:17:12.625147Z",
     "shell.execute_reply": "2023-08-09T03:17:12.624280Z"
    },
    "papermill": {
     "duration": 75.036945,
     "end_time": "2023-08-09T03:17:12.627527",
     "exception": false,
     "start_time": "2023-08-09T03:15:57.590582",
     "status": "completed"
    },
    "tags": []
   },
   "outputs": [
    {
     "name": "stdout",
     "output_type": "stream",
     "text": [
      "Learning rate set to 0.096678\n",
      "0:\tlearn: 0.6501632\ttest: 0.6498034\tbest: 0.6498034 (0)\ttotal: 369ms\tremaining: 6m 8s\n",
      "1:\tlearn: 0.6169758\ttest: 0.6163594\tbest: 0.6163594 (1)\ttotal: 715ms\tremaining: 5m 56s\n",
      "2:\tlearn: 0.5907769\ttest: 0.5899961\tbest: 0.5899961 (2)\ttotal: 1.08s\tremaining: 5m 59s\n",
      "3:\tlearn: 0.5687475\ttest: 0.5677544\tbest: 0.5677544 (3)\ttotal: 1.42s\tremaining: 5m 53s\n",
      "4:\tlearn: 0.5514032\ttest: 0.5502908\tbest: 0.5502908 (4)\ttotal: 1.81s\tremaining: 6m 1s\n",
      "5:\tlearn: 0.5374860\ttest: 0.5360518\tbest: 0.5360518 (5)\ttotal: 2.3s\tremaining: 6m 21s\n",
      "6:\tlearn: 0.5267675\ttest: 0.5253494\tbest: 0.5253494 (6)\ttotal: 2.8s\tremaining: 6m 37s\n",
      "7:\tlearn: 0.5187120\ttest: 0.5172005\tbest: 0.5172005 (7)\ttotal: 3.23s\tremaining: 6m 40s\n",
      "8:\tlearn: 0.5112822\ttest: 0.5096483\tbest: 0.5096483 (8)\ttotal: 3.58s\tremaining: 6m 34s\n",
      "9:\tlearn: 0.5056024\ttest: 0.5038960\tbest: 0.5038960 (9)\ttotal: 3.85s\tremaining: 6m 21s\n",
      "10:\tlearn: 0.5008571\ttest: 0.4990828\tbest: 0.4990828 (10)\ttotal: 4.18s\tremaining: 6m 16s\n",
      "11:\tlearn: 0.4970290\ttest: 0.4951376\tbest: 0.4951376 (11)\ttotal: 4.5s\tremaining: 6m 10s\n",
      "12:\tlearn: 0.4937671\ttest: 0.4918642\tbest: 0.4918642 (12)\ttotal: 4.84s\tremaining: 6m 7s\n",
      "13:\tlearn: 0.4905623\ttest: 0.4886668\tbest: 0.4886668 (13)\ttotal: 5.16s\tremaining: 6m 3s\n",
      "14:\tlearn: 0.4881262\ttest: 0.4862564\tbest: 0.4862564 (14)\ttotal: 5.5s\tremaining: 6m 1s\n",
      "15:\tlearn: 0.4863708\ttest: 0.4845790\tbest: 0.4845790 (15)\ttotal: 5.85s\tremaining: 5m 59s\n",
      "16:\tlearn: 0.4845451\ttest: 0.4827249\tbest: 0.4827249 (16)\ttotal: 6.19s\tremaining: 5m 57s\n",
      "17:\tlearn: 0.4829600\ttest: 0.4810233\tbest: 0.4810233 (17)\ttotal: 6.48s\tremaining: 5m 53s\n",
      "18:\tlearn: 0.4815194\ttest: 0.4796356\tbest: 0.4796356 (18)\ttotal: 6.79s\tremaining: 5m 50s\n",
      "19:\tlearn: 0.4807948\ttest: 0.4789066\tbest: 0.4789066 (19)\ttotal: 7.16s\tremaining: 5m 50s\n",
      "20:\tlearn: 0.4800026\ttest: 0.4780957\tbest: 0.4780957 (20)\ttotal: 7.42s\tremaining: 5m 46s\n",
      "21:\tlearn: 0.4791724\ttest: 0.4773056\tbest: 0.4773056 (21)\ttotal: 7.73s\tremaining: 5m 43s\n",
      "22:\tlearn: 0.4783456\ttest: 0.4764986\tbest: 0.4764986 (22)\ttotal: 8.08s\tremaining: 5m 43s\n",
      "23:\tlearn: 0.4775646\ttest: 0.4757353\tbest: 0.4757353 (23)\ttotal: 8.39s\tremaining: 5m 41s\n",
      "24:\tlearn: 0.4769902\ttest: 0.4751918\tbest: 0.4751918 (24)\ttotal: 8.77s\tremaining: 5m 42s\n",
      "25:\tlearn: 0.4762780\ttest: 0.4746372\tbest: 0.4746372 (25)\ttotal: 9.14s\tremaining: 5m 42s\n",
      "26:\tlearn: 0.4758473\ttest: 0.4742285\tbest: 0.4742285 (26)\ttotal: 9.42s\tremaining: 5m 39s\n",
      "27:\tlearn: 0.4753669\ttest: 0.4737208\tbest: 0.4737208 (27)\ttotal: 9.69s\tremaining: 5m 36s\n",
      "28:\tlearn: 0.4748223\ttest: 0.4732869\tbest: 0.4732869 (28)\ttotal: 9.98s\tremaining: 5m 34s\n",
      "29:\tlearn: 0.4743050\ttest: 0.4728504\tbest: 0.4728504 (29)\ttotal: 10.3s\tremaining: 5m 32s\n",
      "30:\tlearn: 0.4738818\ttest: 0.4725035\tbest: 0.4725035 (30)\ttotal: 10.6s\tremaining: 5m 32s\n",
      "31:\tlearn: 0.4730805\ttest: 0.4712529\tbest: 0.4712529 (31)\ttotal: 11s\tremaining: 5m 31s\n",
      "32:\tlearn: 0.4726013\ttest: 0.4705933\tbest: 0.4705933 (32)\ttotal: 11.3s\tremaining: 5m 31s\n",
      "33:\tlearn: 0.4723877\ttest: 0.4704151\tbest: 0.4704151 (33)\ttotal: 11.7s\tremaining: 5m 31s\n",
      "34:\tlearn: 0.4720933\ttest: 0.4701444\tbest: 0.4701444 (34)\ttotal: 12s\tremaining: 5m 31s\n",
      "35:\tlearn: 0.4718042\ttest: 0.4699074\tbest: 0.4699074 (35)\ttotal: 12.3s\tremaining: 5m 29s\n",
      "36:\tlearn: 0.4713902\ttest: 0.4695725\tbest: 0.4695725 (36)\ttotal: 12.6s\tremaining: 5m 28s\n",
      "37:\tlearn: 0.4706836\ttest: 0.4684538\tbest: 0.4684538 (37)\ttotal: 13s\tremaining: 5m 28s\n",
      "38:\tlearn: 0.4704764\ttest: 0.4683019\tbest: 0.4683019 (38)\ttotal: 13.3s\tremaining: 5m 27s\n",
      "39:\tlearn: 0.4702241\ttest: 0.4681388\tbest: 0.4681388 (39)\ttotal: 13.6s\tremaining: 5m 26s\n",
      "40:\tlearn: 0.4697274\ttest: 0.4677717\tbest: 0.4677717 (40)\ttotal: 13.9s\tremaining: 5m 26s\n",
      "41:\tlearn: 0.4694301\ttest: 0.4675171\tbest: 0.4675171 (41)\ttotal: 14.3s\tremaining: 5m 25s\n",
      "42:\tlearn: 0.4692174\ttest: 0.4673558\tbest: 0.4673558 (42)\ttotal: 14.6s\tremaining: 5m 25s\n",
      "43:\tlearn: 0.4689771\ttest: 0.4671846\tbest: 0.4671846 (43)\ttotal: 15s\tremaining: 5m 25s\n",
      "44:\tlearn: 0.4681597\ttest: 0.4658138\tbest: 0.4658138 (44)\ttotal: 15.3s\tremaining: 5m 25s\n",
      "45:\tlearn: 0.4677880\ttest: 0.4652944\tbest: 0.4652944 (45)\ttotal: 15.7s\tremaining: 5m 25s\n",
      "46:\tlearn: 0.4676253\ttest: 0.4652297\tbest: 0.4652297 (46)\ttotal: 16s\tremaining: 5m 24s\n",
      "47:\tlearn: 0.4674591\ttest: 0.4651123\tbest: 0.4651123 (47)\ttotal: 16.4s\tremaining: 5m 24s\n",
      "48:\tlearn: 0.4671737\ttest: 0.4647959\tbest: 0.4647959 (48)\ttotal: 16.7s\tremaining: 5m 24s\n",
      "49:\tlearn: 0.4669192\ttest: 0.4645381\tbest: 0.4645381 (49)\ttotal: 17.1s\tremaining: 5m 24s\n",
      "50:\tlearn: 0.4666747\ttest: 0.4643728\tbest: 0.4643728 (50)\ttotal: 17.4s\tremaining: 5m 24s\n",
      "51:\tlearn: 0.4665313\ttest: 0.4642873\tbest: 0.4642873 (51)\ttotal: 17.8s\tremaining: 5m 24s\n",
      "52:\tlearn: 0.4658553\ttest: 0.4630880\tbest: 0.4630880 (52)\ttotal: 18.2s\tremaining: 5m 24s\n",
      "53:\tlearn: 0.4652903\ttest: 0.4620585\tbest: 0.4620585 (53)\ttotal: 18.6s\tremaining: 5m 25s\n",
      "54:\tlearn: 0.4650885\ttest: 0.4619073\tbest: 0.4619073 (54)\ttotal: 19s\tremaining: 5m 26s\n",
      "55:\tlearn: 0.4649177\ttest: 0.4617018\tbest: 0.4617018 (55)\ttotal: 19.3s\tremaining: 5m 25s\n",
      "56:\tlearn: 0.4646371\ttest: 0.4611230\tbest: 0.4611230 (56)\ttotal: 19.6s\tremaining: 5m 24s\n",
      "57:\tlearn: 0.4639758\ttest: 0.4599419\tbest: 0.4599419 (57)\ttotal: 20.1s\tremaining: 5m 26s\n",
      "58:\tlearn: 0.4638334\ttest: 0.4598700\tbest: 0.4598700 (58)\ttotal: 20.4s\tremaining: 5m 25s\n",
      "59:\tlearn: 0.4637154\ttest: 0.4597956\tbest: 0.4597956 (59)\ttotal: 20.8s\tremaining: 5m 25s\n",
      "60:\tlearn: 0.4635713\ttest: 0.4597287\tbest: 0.4597287 (60)\ttotal: 21.1s\tremaining: 5m 24s\n",
      "61:\tlearn: 0.4633729\ttest: 0.4596321\tbest: 0.4596321 (61)\ttotal: 21.4s\tremaining: 5m 24s\n",
      "62:\tlearn: 0.4631563\ttest: 0.4595027\tbest: 0.4595027 (62)\ttotal: 21.7s\tremaining: 5m 23s\n",
      "63:\tlearn: 0.4629365\ttest: 0.4593425\tbest: 0.4593425 (63)\ttotal: 22.1s\tremaining: 5m 22s\n",
      "64:\tlearn: 0.4628749\ttest: 0.4593517\tbest: 0.4593425 (63)\ttotal: 22.4s\tremaining: 5m 22s\n",
      "65:\tlearn: 0.4628135\ttest: 0.4593253\tbest: 0.4593253 (65)\ttotal: 22.7s\tremaining: 5m 21s\n",
      "66:\tlearn: 0.4627271\ttest: 0.4592665\tbest: 0.4592665 (66)\ttotal: 23s\tremaining: 5m 20s\n",
      "67:\tlearn: 0.4625805\ttest: 0.4591836\tbest: 0.4591836 (67)\ttotal: 23.4s\tremaining: 5m 20s\n",
      "68:\tlearn: 0.4623993\ttest: 0.4590316\tbest: 0.4590316 (68)\ttotal: 23.7s\tremaining: 5m 19s\n",
      "69:\tlearn: 0.4621569\ttest: 0.4588198\tbest: 0.4588198 (69)\ttotal: 24s\tremaining: 5m 19s\n",
      "70:\tlearn: 0.4614970\ttest: 0.4576061\tbest: 0.4576061 (70)\ttotal: 24.5s\tremaining: 5m 20s\n",
      "71:\tlearn: 0.4612669\ttest: 0.4574891\tbest: 0.4574891 (71)\ttotal: 24.8s\tremaining: 5m 19s\n",
      "72:\tlearn: 0.4610040\ttest: 0.4573824\tbest: 0.4573824 (72)\ttotal: 25.2s\tremaining: 5m 19s\n",
      "73:\tlearn: 0.4607785\ttest: 0.4570035\tbest: 0.4570035 (73)\ttotal: 25.5s\tremaining: 5m 19s\n",
      "74:\tlearn: 0.4606388\ttest: 0.4569327\tbest: 0.4569327 (74)\ttotal: 25.9s\tremaining: 5m 19s\n",
      "75:\tlearn: 0.4604974\ttest: 0.4568802\tbest: 0.4568802 (75)\ttotal: 26.2s\tremaining: 5m 18s\n",
      "76:\tlearn: 0.4603795\ttest: 0.4568438\tbest: 0.4568438 (76)\ttotal: 26.5s\tremaining: 5m 18s\n",
      "77:\tlearn: 0.4601082\ttest: 0.4562769\tbest: 0.4562769 (77)\ttotal: 27s\tremaining: 5m 19s\n",
      "78:\tlearn: 0.4598650\ttest: 0.4558298\tbest: 0.4558298 (78)\ttotal: 27.4s\tremaining: 5m 19s\n",
      "79:\tlearn: 0.4596895\ttest: 0.4558481\tbest: 0.4558298 (78)\ttotal: 27.7s\tremaining: 5m 19s\n",
      "80:\tlearn: 0.4595836\ttest: 0.4558773\tbest: 0.4558298 (78)\ttotal: 28s\tremaining: 5m 18s\n",
      "81:\tlearn: 0.4594343\ttest: 0.4556175\tbest: 0.4556175 (81)\ttotal: 28.5s\tremaining: 5m 18s\n",
      "82:\tlearn: 0.4593529\ttest: 0.4556056\tbest: 0.4556056 (82)\ttotal: 28.9s\tremaining: 5m 19s\n",
      "83:\tlearn: 0.4592631\ttest: 0.4555762\tbest: 0.4555762 (83)\ttotal: 29.2s\tremaining: 5m 18s\n",
      "84:\tlearn: 0.4590011\ttest: 0.4554034\tbest: 0.4554034 (84)\ttotal: 29.5s\tremaining: 5m 18s\n",
      "85:\tlearn: 0.4586149\ttest: 0.4547187\tbest: 0.4547187 (85)\ttotal: 29.8s\tremaining: 5m 17s\n",
      "86:\tlearn: 0.4585055\ttest: 0.4546924\tbest: 0.4546924 (86)\ttotal: 30.2s\tremaining: 5m 16s\n",
      "87:\tlearn: 0.4584583\ttest: 0.4546681\tbest: 0.4546681 (87)\ttotal: 30.5s\tremaining: 5m 16s\n",
      "88:\tlearn: 0.4582884\ttest: 0.4545926\tbest: 0.4545926 (88)\ttotal: 30.8s\tremaining: 5m 15s\n",
      "89:\tlearn: 0.4581770\ttest: 0.4545656\tbest: 0.4545656 (89)\ttotal: 31.2s\tremaining: 5m 15s\n",
      "90:\tlearn: 0.4580968\ttest: 0.4545630\tbest: 0.4545630 (90)\ttotal: 31.5s\tremaining: 5m 14s\n",
      "91:\tlearn: 0.4579380\ttest: 0.4544430\tbest: 0.4544430 (91)\ttotal: 31.9s\tremaining: 5m 14s\n",
      "92:\tlearn: 0.4577736\ttest: 0.4543956\tbest: 0.4543956 (92)\ttotal: 32.2s\tremaining: 5m 14s\n",
      "93:\tlearn: 0.4575602\ttest: 0.4542195\tbest: 0.4542195 (93)\ttotal: 32.5s\tremaining: 5m 13s\n",
      "94:\tlearn: 0.4574233\ttest: 0.4541289\tbest: 0.4541289 (94)\ttotal: 32.9s\tremaining: 5m 12s\n",
      "95:\tlearn: 0.4573318\ttest: 0.4541358\tbest: 0.4541289 (94)\ttotal: 33.2s\tremaining: 5m 12s\n",
      "96:\tlearn: 0.4571979\ttest: 0.4540883\tbest: 0.4540883 (96)\ttotal: 33.6s\tremaining: 5m 12s\n",
      "97:\tlearn: 0.4571031\ttest: 0.4540415\tbest: 0.4540415 (97)\ttotal: 33.9s\tremaining: 5m 12s\n",
      "98:\tlearn: 0.4569978\ttest: 0.4539935\tbest: 0.4539935 (98)\ttotal: 34.4s\tremaining: 5m 13s\n",
      "99:\tlearn: 0.4568857\ttest: 0.4539724\tbest: 0.4539724 (99)\ttotal: 34.8s\tremaining: 5m 13s\n",
      "100:\tlearn: 0.4567962\ttest: 0.4539732\tbest: 0.4539724 (99)\ttotal: 35.3s\tremaining: 5m 14s\n",
      "101:\tlearn: 0.4567063\ttest: 0.4539997\tbest: 0.4539724 (99)\ttotal: 35.7s\tremaining: 5m 13s\n",
      "102:\tlearn: 0.4565589\ttest: 0.4539633\tbest: 0.4539633 (102)\ttotal: 36s\tremaining: 5m 13s\n",
      "103:\tlearn: 0.4563119\ttest: 0.4535191\tbest: 0.4535191 (103)\ttotal: 36.5s\tremaining: 5m 14s\n",
      "104:\tlearn: 0.4561744\ttest: 0.4535799\tbest: 0.4535191 (103)\ttotal: 36.8s\tremaining: 5m 13s\n",
      "105:\tlearn: 0.4560540\ttest: 0.4535462\tbest: 0.4535191 (103)\ttotal: 37.1s\tremaining: 5m 13s\n",
      "106:\tlearn: 0.4558560\ttest: 0.4533257\tbest: 0.4533257 (106)\ttotal: 37.5s\tremaining: 5m 12s\n",
      "107:\tlearn: 0.4557772\ttest: 0.4533049\tbest: 0.4533049 (107)\ttotal: 37.8s\tremaining: 5m 12s\n",
      "108:\tlearn: 0.4556411\ttest: 0.4532291\tbest: 0.4532291 (108)\ttotal: 38.1s\tremaining: 5m 11s\n",
      "109:\tlearn: 0.4555511\ttest: 0.4532314\tbest: 0.4532291 (108)\ttotal: 38.5s\tremaining: 5m 11s\n",
      "110:\tlearn: 0.4554737\ttest: 0.4532313\tbest: 0.4532291 (108)\ttotal: 38.8s\tremaining: 5m 11s\n",
      "111:\tlearn: 0.4553557\ttest: 0.4531626\tbest: 0.4531626 (111)\ttotal: 39.2s\tremaining: 5m 10s\n",
      "112:\tlearn: 0.4552378\ttest: 0.4531164\tbest: 0.4531164 (112)\ttotal: 39.5s\tremaining: 5m 9s\n",
      "113:\tlearn: 0.4549610\ttest: 0.4529805\tbest: 0.4529805 (113)\ttotal: 39.8s\tremaining: 5m 9s\n",
      "114:\tlearn: 0.4547338\ttest: 0.4525588\tbest: 0.4525588 (114)\ttotal: 40.2s\tremaining: 5m 9s\n",
      "115:\tlearn: 0.4546293\ttest: 0.4525488\tbest: 0.4525488 (115)\ttotal: 40.5s\tremaining: 5m 8s\n",
      "116:\tlearn: 0.4544717\ttest: 0.4523179\tbest: 0.4523179 (116)\ttotal: 41s\tremaining: 5m 9s\n",
      "117:\tlearn: 0.4543492\ttest: 0.4521822\tbest: 0.4521822 (117)\ttotal: 41.4s\tremaining: 5m 9s\n",
      "118:\tlearn: 0.4542045\ttest: 0.4520111\tbest: 0.4520111 (118)\ttotal: 41.8s\tremaining: 5m 9s\n",
      "119:\tlearn: 0.4540667\ttest: 0.4519657\tbest: 0.4519657 (119)\ttotal: 42.1s\tremaining: 5m 8s\n",
      "120:\tlearn: 0.4540123\ttest: 0.4519394\tbest: 0.4519394 (120)\ttotal: 42.4s\tremaining: 5m 8s\n",
      "121:\tlearn: 0.4536683\ttest: 0.4512580\tbest: 0.4512580 (121)\ttotal: 42.8s\tremaining: 5m 8s\n",
      "122:\tlearn: 0.4535338\ttest: 0.4512451\tbest: 0.4512451 (122)\ttotal: 43.2s\tremaining: 5m 7s\n",
      "123:\tlearn: 0.4535023\ttest: 0.4512452\tbest: 0.4512451 (122)\ttotal: 43.5s\tremaining: 5m 7s\n",
      "124:\tlearn: 0.4533880\ttest: 0.4512425\tbest: 0.4512425 (124)\ttotal: 43.8s\tremaining: 5m 6s\n",
      "125:\tlearn: 0.4532926\ttest: 0.4512178\tbest: 0.4512178 (125)\ttotal: 44.1s\tremaining: 5m 5s\n",
      "126:\tlearn: 0.4530396\ttest: 0.4510614\tbest: 0.4510614 (126)\ttotal: 44.4s\tremaining: 5m 5s\n",
      "127:\tlearn: 0.4529105\ttest: 0.4510638\tbest: 0.4510614 (126)\ttotal: 44.7s\tremaining: 5m 4s\n",
      "128:\tlearn: 0.4527636\ttest: 0.4510387\tbest: 0.4510387 (128)\ttotal: 45.1s\tremaining: 5m 4s\n",
      "129:\tlearn: 0.4526024\ttest: 0.4510506\tbest: 0.4510387 (128)\ttotal: 45.4s\tremaining: 5m 3s\n",
      "130:\tlearn: 0.4524851\ttest: 0.4511001\tbest: 0.4510387 (128)\ttotal: 45.7s\tremaining: 5m 3s\n",
      "131:\tlearn: 0.4523784\ttest: 0.4510786\tbest: 0.4510387 (128)\ttotal: 46s\tremaining: 5m 2s\n",
      "132:\tlearn: 0.4521720\ttest: 0.4507341\tbest: 0.4507341 (132)\ttotal: 46.5s\tremaining: 5m 2s\n",
      "133:\tlearn: 0.4520956\ttest: 0.4506519\tbest: 0.4506519 (133)\ttotal: 46.8s\tremaining: 5m 2s\n",
      "134:\tlearn: 0.4520530\ttest: 0.4506578\tbest: 0.4506519 (133)\ttotal: 47.1s\tremaining: 5m 2s\n",
      "135:\tlearn: 0.4518960\ttest: 0.4506499\tbest: 0.4506499 (135)\ttotal: 47.5s\tremaining: 5m 1s\n",
      "136:\tlearn: 0.4518324\ttest: 0.4506557\tbest: 0.4506499 (135)\ttotal: 47.8s\tremaining: 5m\n",
      "137:\tlearn: 0.4517700\ttest: 0.4506545\tbest: 0.4506499 (135)\ttotal: 48.1s\tremaining: 5m\n",
      "138:\tlearn: 0.4515622\ttest: 0.4505771\tbest: 0.4505771 (138)\ttotal: 48.4s\tremaining: 4m 59s\n",
      "139:\tlearn: 0.4514270\ttest: 0.4505985\tbest: 0.4505771 (138)\ttotal: 48.7s\tremaining: 4m 59s\n",
      "140:\tlearn: 0.4514001\ttest: 0.4506024\tbest: 0.4505771 (138)\ttotal: 49s\tremaining: 4m 58s\n",
      "141:\tlearn: 0.4513535\ttest: 0.4506107\tbest: 0.4505771 (138)\ttotal: 49.4s\tremaining: 4m 58s\n",
      "142:\tlearn: 0.4512406\ttest: 0.4505598\tbest: 0.4505598 (142)\ttotal: 49.7s\tremaining: 4m 57s\n",
      "143:\tlearn: 0.4511463\ttest: 0.4505185\tbest: 0.4505185 (143)\ttotal: 50s\tremaining: 4m 57s\n",
      "144:\tlearn: 0.4510306\ttest: 0.4504440\tbest: 0.4504440 (144)\ttotal: 50.3s\tremaining: 4m 56s\n",
      "145:\tlearn: 0.4509192\ttest: 0.4504599\tbest: 0.4504440 (144)\ttotal: 50.7s\tremaining: 4m 56s\n",
      "146:\tlearn: 0.4507827\ttest: 0.4504851\tbest: 0.4504440 (144)\ttotal: 51s\tremaining: 4m 55s\n",
      "147:\tlearn: 0.4507465\ttest: 0.4504887\tbest: 0.4504440 (144)\ttotal: 51.3s\tremaining: 4m 55s\n",
      "148:\tlearn: 0.4506600\ttest: 0.4504760\tbest: 0.4504440 (144)\ttotal: 51.7s\tremaining: 4m 55s\n",
      "149:\tlearn: 0.4505741\ttest: 0.4504764\tbest: 0.4504440 (144)\ttotal: 52s\tremaining: 4m 54s\n",
      "150:\tlearn: 0.4504798\ttest: 0.4504610\tbest: 0.4504440 (144)\ttotal: 52.3s\tremaining: 4m 54s\n",
      "151:\tlearn: 0.4504534\ttest: 0.4504515\tbest: 0.4504440 (144)\ttotal: 52.6s\tremaining: 4m 53s\n",
      "152:\tlearn: 0.4503721\ttest: 0.4503986\tbest: 0.4503986 (152)\ttotal: 52.9s\tremaining: 4m 52s\n",
      "153:\tlearn: 0.4502828\ttest: 0.4504065\tbest: 0.4503986 (152)\ttotal: 53.2s\tremaining: 4m 52s\n",
      "154:\tlearn: 0.4501100\ttest: 0.4501095\tbest: 0.4501095 (154)\ttotal: 53.6s\tremaining: 4m 52s\n",
      "155:\tlearn: 0.4499642\ttest: 0.4500360\tbest: 0.4500360 (155)\ttotal: 54s\tremaining: 4m 52s\n",
      "156:\tlearn: 0.4499205\ttest: 0.4500389\tbest: 0.4500360 (155)\ttotal: 54.3s\tremaining: 4m 51s\n",
      "157:\tlearn: 0.4497697\ttest: 0.4500531\tbest: 0.4500360 (155)\ttotal: 54.6s\tremaining: 4m 51s\n",
      "158:\tlearn: 0.4497318\ttest: 0.4500599\tbest: 0.4500360 (155)\ttotal: 54.9s\tremaining: 4m 50s\n",
      "159:\tlearn: 0.4495754\ttest: 0.4500136\tbest: 0.4500136 (159)\ttotal: 55.3s\tremaining: 4m 50s\n",
      "160:\tlearn: 0.4494973\ttest: 0.4500490\tbest: 0.4500136 (159)\ttotal: 55.6s\tremaining: 4m 49s\n",
      "161:\tlearn: 0.4493625\ttest: 0.4498099\tbest: 0.4498099 (161)\ttotal: 56s\tremaining: 4m 49s\n",
      "162:\tlearn: 0.4493324\ttest: 0.4498008\tbest: 0.4498008 (162)\ttotal: 56.3s\tremaining: 4m 49s\n",
      "163:\tlearn: 0.4492257\ttest: 0.4497954\tbest: 0.4497954 (163)\ttotal: 56.7s\tremaining: 4m 48s\n",
      "164:\tlearn: 0.4491800\ttest: 0.4497805\tbest: 0.4497805 (164)\ttotal: 57s\tremaining: 4m 48s\n",
      "165:\tlearn: 0.4491148\ttest: 0.4497668\tbest: 0.4497668 (165)\ttotal: 57.3s\tremaining: 4m 48s\n",
      "166:\tlearn: 0.4490687\ttest: 0.4497694\tbest: 0.4497668 (165)\ttotal: 57.7s\tremaining: 4m 47s\n",
      "167:\tlearn: 0.4489348\ttest: 0.4497988\tbest: 0.4497668 (165)\ttotal: 58s\tremaining: 4m 47s\n",
      "168:\tlearn: 0.4488583\ttest: 0.4497835\tbest: 0.4497668 (165)\ttotal: 58.4s\tremaining: 4m 46s\n",
      "169:\tlearn: 0.4487656\ttest: 0.4497748\tbest: 0.4497668 (165)\ttotal: 58.7s\tremaining: 4m 46s\n",
      "170:\tlearn: 0.4486858\ttest: 0.4497733\tbest: 0.4497668 (165)\ttotal: 59s\tremaining: 4m 46s\n",
      "171:\tlearn: 0.4485932\ttest: 0.4497715\tbest: 0.4497668 (165)\ttotal: 59.4s\tremaining: 4m 45s\n",
      "172:\tlearn: 0.4482948\ttest: 0.4492801\tbest: 0.4492801 (172)\ttotal: 59.8s\tremaining: 4m 45s\n",
      "173:\tlearn: 0.4482077\ttest: 0.4492723\tbest: 0.4492723 (173)\ttotal: 1m\tremaining: 4m 45s\n",
      "174:\tlearn: 0.4481335\ttest: 0.4491224\tbest: 0.4491224 (174)\ttotal: 1m\tremaining: 4m 45s\n",
      "175:\tlearn: 0.4480983\ttest: 0.4491285\tbest: 0.4491224 (174)\ttotal: 1m\tremaining: 4m 45s\n",
      "176:\tlearn: 0.4480455\ttest: 0.4491119\tbest: 0.4491119 (176)\ttotal: 1m 1s\tremaining: 4m 44s\n",
      "177:\tlearn: 0.4479125\ttest: 0.4491373\tbest: 0.4491119 (176)\ttotal: 1m 1s\tremaining: 4m 44s\n",
      "178:\tlearn: 0.4477912\ttest: 0.4491492\tbest: 0.4491119 (176)\ttotal: 1m 1s\tremaining: 4m 43s\n",
      "179:\tlearn: 0.4476707\ttest: 0.4491255\tbest: 0.4491119 (176)\ttotal: 1m 2s\tremaining: 4m 43s\n",
      "180:\tlearn: 0.4475489\ttest: 0.4491142\tbest: 0.4491119 (176)\ttotal: 1m 2s\tremaining: 4m 42s\n",
      "181:\tlearn: 0.4473963\ttest: 0.4491039\tbest: 0.4491039 (181)\ttotal: 1m 2s\tremaining: 4m 42s\n",
      "182:\tlearn: 0.4473129\ttest: 0.4491189\tbest: 0.4491039 (181)\ttotal: 1m 3s\tremaining: 4m 41s\n",
      "183:\tlearn: 0.4472505\ttest: 0.4491151\tbest: 0.4491039 (181)\ttotal: 1m 3s\tremaining: 4m 41s\n",
      "184:\tlearn: 0.4472283\ttest: 0.4491270\tbest: 0.4491039 (181)\ttotal: 1m 3s\tremaining: 4m 40s\n",
      "185:\tlearn: 0.4471231\ttest: 0.4491201\tbest: 0.4491039 (181)\ttotal: 1m 4s\tremaining: 4m 40s\n",
      "186:\tlearn: 0.4470070\ttest: 0.4491060\tbest: 0.4491039 (181)\ttotal: 1m 4s\tremaining: 4m 39s\n",
      "187:\tlearn: 0.4469613\ttest: 0.4491059\tbest: 0.4491039 (181)\ttotal: 1m 4s\tremaining: 4m 39s\n",
      "188:\tlearn: 0.4469370\ttest: 0.4490911\tbest: 0.4490911 (188)\ttotal: 1m 4s\tremaining: 4m 38s\n",
      "189:\tlearn: 0.4467838\ttest: 0.4491424\tbest: 0.4490911 (188)\ttotal: 1m 5s\tremaining: 4m 38s\n",
      "190:\tlearn: 0.4466668\ttest: 0.4491360\tbest: 0.4490911 (188)\ttotal: 1m 5s\tremaining: 4m 37s\n",
      "191:\tlearn: 0.4465334\ttest: 0.4490910\tbest: 0.4490910 (191)\ttotal: 1m 6s\tremaining: 4m 37s\n",
      "192:\tlearn: 0.4464217\ttest: 0.4490053\tbest: 0.4490053 (192)\ttotal: 1m 6s\tremaining: 4m 37s\n",
      "193:\tlearn: 0.4461967\ttest: 0.4485724\tbest: 0.4485724 (193)\ttotal: 1m 6s\tremaining: 4m 38s\n",
      "194:\tlearn: 0.4461430\ttest: 0.4485660\tbest: 0.4485660 (194)\ttotal: 1m 7s\tremaining: 4m 38s\n",
      "195:\tlearn: 0.4460848\ttest: 0.4485715\tbest: 0.4485660 (194)\ttotal: 1m 7s\tremaining: 4m 37s\n",
      "196:\tlearn: 0.4460545\ttest: 0.4485704\tbest: 0.4485660 (194)\ttotal: 1m 8s\tremaining: 4m 37s\n",
      "197:\tlearn: 0.4459270\ttest: 0.4486002\tbest: 0.4485660 (194)\ttotal: 1m 8s\tremaining: 4m 37s\n",
      "198:\tlearn: 0.4458703\ttest: 0.4485869\tbest: 0.4485660 (194)\ttotal: 1m 8s\tremaining: 4m 36s\n",
      "199:\tlearn: 0.4457923\ttest: 0.4485886\tbest: 0.4485660 (194)\ttotal: 1m 9s\tremaining: 4m 36s\n",
      "200:\tlearn: 0.4456649\ttest: 0.4485339\tbest: 0.4485339 (200)\ttotal: 1m 9s\tremaining: 4m 35s\n",
      "201:\tlearn: 0.4455986\ttest: 0.4484976\tbest: 0.4484976 (201)\ttotal: 1m 9s\tremaining: 4m 35s\n",
      "202:\tlearn: 0.4454389\ttest: 0.4484135\tbest: 0.4484135 (202)\ttotal: 1m 10s\tremaining: 4m 35s\n",
      "203:\tlearn: 0.4453466\ttest: 0.4484268\tbest: 0.4484135 (202)\ttotal: 1m 10s\tremaining: 4m 34s\n",
      "204:\tlearn: 0.4452249\ttest: 0.4484165\tbest: 0.4484135 (202)\ttotal: 1m 10s\tremaining: 4m 34s\n",
      "205:\tlearn: 0.4451887\ttest: 0.4484176\tbest: 0.4484135 (202)\ttotal: 1m 11s\tremaining: 4m 33s\n",
      "206:\tlearn: 0.4450928\ttest: 0.4484230\tbest: 0.4484135 (202)\ttotal: 1m 11s\tremaining: 4m 33s\n",
      "207:\tlearn: 0.4449952\ttest: 0.4484306\tbest: 0.4484135 (202)\ttotal: 1m 11s\tremaining: 4m 32s\n",
      "208:\tlearn: 0.4448533\ttest: 0.4484701\tbest: 0.4484135 (202)\ttotal: 1m 12s\tremaining: 4m 32s\n",
      "209:\tlearn: 0.4447697\ttest: 0.4484609\tbest: 0.4484135 (202)\ttotal: 1m 12s\tremaining: 4m 32s\n",
      "210:\tlearn: 0.4446221\ttest: 0.4484838\tbest: 0.4484135 (202)\ttotal: 1m 12s\tremaining: 4m 31s\n",
      "211:\tlearn: 0.4445041\ttest: 0.4485292\tbest: 0.4484135 (202)\ttotal: 1m 13s\tremaining: 4m 31s\n",
      "212:\tlearn: 0.4443860\ttest: 0.4485419\tbest: 0.4484135 (202)\ttotal: 1m 13s\tremaining: 4m 31s\n",
      "Stopped by overfitting detector  (10 iterations wait)\n",
      "\n",
      "bestTest = 0.4484135161\n",
      "bestIteration = 202\n",
      "\n",
      "Shrink model to first 203 iterations.\n"
     ]
    },
    {
     "data": {
      "text/plain": [
       "<catboost.core.CatBoostClassifier at 0x7833e1b50160>"
      ]
     },
     "execution_count": 24,
     "metadata": {},
     "output_type": "execute_result"
    }
   ],
   "source": [
    "clf = CatBoostClassifier(iterations=1000, loss_function='Logloss', cat_features=categorical_columns)\n",
    "clf.fit(train_X, train_y, eval_set=(valid_X, valid_y), early_stopping_rounds=10, logging_level='Verbose')"
   ]
  },
  {
   "cell_type": "code",
   "execution_count": 25,
   "id": "77a19bef",
   "metadata": {
    "execution": {
     "iopub.execute_input": "2023-08-09T03:17:12.761764Z",
     "iopub.status.busy": "2023-08-09T03:17:12.761156Z",
     "iopub.status.idle": "2023-08-09T03:17:14.275471Z",
     "shell.execute_reply": "2023-08-09T03:17:14.274269Z"
    },
    "papermill": {
     "duration": 1.584703,
     "end_time": "2023-08-09T03:17:14.278285",
     "exception": false,
     "start_time": "2023-08-09T03:17:12.693582",
     "status": "completed"
    },
    "tags": []
   },
   "outputs": [],
   "source": [
    "pred_test = clf.predict_proba(test_ft_df)[:, 1]\n",
    "sub_df = pd.DataFrame({\n",
    "    \"ID\": test_df[\"ID\"], \n",
    "    \"PredictedProb\": pred_test\n",
    "}).to_csv(\"tanaka_sub_cat.csv\", index=False)"
   ]
  },
  {
   "cell_type": "code",
   "execution_count": 26,
   "id": "f28aac1c",
   "metadata": {
    "execution": {
     "iopub.execute_input": "2023-08-09T03:17:14.413111Z",
     "iopub.status.busy": "2023-08-09T03:17:14.412684Z",
     "iopub.status.idle": "2023-08-09T03:17:14.418452Z",
     "shell.execute_reply": "2023-08-09T03:17:14.417038Z"
    },
    "papermill": {
     "duration": 0.075896,
     "end_time": "2023-08-09T03:17:14.420947",
     "exception": false,
     "start_time": "2023-08-09T03:17:14.345051",
     "status": "completed"
    },
    "tags": []
   },
   "outputs": [],
   "source": [
    "# from sklearn.model_selection import GridSearchCV"
   ]
  },
  {
   "cell_type": "code",
   "execution_count": 27,
   "id": "b77ed6dd",
   "metadata": {
    "execution": {
     "iopub.execute_input": "2023-08-09T03:17:14.556965Z",
     "iopub.status.busy": "2023-08-09T03:17:14.556041Z",
     "iopub.status.idle": "2023-08-09T03:17:14.564901Z",
     "shell.execute_reply": "2023-08-09T03:17:14.563966Z"
    },
    "papermill": {
     "duration": 0.079675,
     "end_time": "2023-08-09T03:17:14.567068",
     "exception": false,
     "start_time": "2023-08-09T03:17:14.487393",
     "status": "completed"
    },
    "tags": []
   },
   "outputs": [
    {
     "data": {
      "text/plain": [
       "\"\\ncv_params = {\\n    'depth': [8, 16, 32],\\n    'min_data_in_leaf': [1, 10],\\n    # 9時間経っても終わらなかったので，パラメータ減らした\\n}\\n\\nclf = CatBoostClassifier(iterations=1000, loss_function='Logloss', cat_features=categorical_columns)\\n\\ngridcv = GridSearchCV(\\n    clf, cv_params, cv=3,\\n    scoring='neg_log_loss', n_jobs=-1\\n)\\ngridcv.fit(\\n    train_X, train_y,\\n    eval_set = (valid_X, valid_y),\\n    early_stopping_rounds=10, logging_level='Verbose'\\n)\\n\\nbest_params = gridcv.best_params_\\nbest_score = gridcv.best_score_\\nprint(f'最適パラメータ {best_params}\\nスコア {best_score}')\\n\""
      ]
     },
     "execution_count": 27,
     "metadata": {},
     "output_type": "execute_result"
    }
   ],
   "source": [
    "'''\n",
    "cv_params = {\n",
    "    'depth': [8, 16, 32],\n",
    "    'min_data_in_leaf': [1, 10],\n",
    "    # 9時間経っても終わらなかったので，パラメータ減らした\n",
    "}\n",
    "\n",
    "clf = CatBoostClassifier(iterations=1000, loss_function='Logloss', cat_features=categorical_columns)\n",
    "\n",
    "gridcv = GridSearchCV(\n",
    "    clf, cv_params, cv=3,\n",
    "    scoring='neg_log_loss', n_jobs=-1\n",
    ")\n",
    "gridcv.fit(\n",
    "    train_X, train_y,\n",
    "    eval_set = (valid_X, valid_y),\n",
    "    early_stopping_rounds=10, logging_level='Verbose'\n",
    ")\n",
    "\n",
    "best_params = gridcv.best_params_\n",
    "best_score = gridcv.best_score_\n",
    "print(f'最適パラメータ {best_params}\\nスコア {best_score}')\n",
    "'''"
   ]
  },
  {
   "cell_type": "code",
   "execution_count": 28,
   "id": "6d787983",
   "metadata": {
    "execution": {
     "iopub.execute_input": "2023-08-09T03:17:14.705599Z",
     "iopub.status.busy": "2023-08-09T03:17:14.703042Z",
     "iopub.status.idle": "2023-08-09T03:17:14.711838Z",
     "shell.execute_reply": "2023-08-09T03:17:14.710715Z"
    },
    "papermill": {
     "duration": 0.080217,
     "end_time": "2023-08-09T03:17:14.714110",
     "exception": false,
     "start_time": "2023-08-09T03:17:14.633893",
     "status": "completed"
    },
    "tags": []
   },
   "outputs": [
    {
     "data": {
      "text/plain": [
       "'\\npred_test = gridcv.predict_proba(test_ft_df)[:, 1]\\nsub_df = pd.DataFrame({\\n    \"ID\": test_df[\"ID\"], \\n    \"PredictedProb\": pred_test\\n}).to_csv(\"tanaka_sub_cat.csv\", index=False)\\n'"
      ]
     },
     "execution_count": 28,
     "metadata": {},
     "output_type": "execute_result"
    }
   ],
   "source": [
    "'''\n",
    "pred_test = gridcv.predict_proba(test_ft_df)[:, 1]\n",
    "sub_df = pd.DataFrame({\n",
    "    \"ID\": test_df[\"ID\"], \n",
    "    \"PredictedProb\": pred_test\n",
    "}).to_csv(\"tanaka_sub_cat.csv\", index=False)\n",
    "'''"
   ]
  }
 ],
 "metadata": {
  "kernelspec": {
   "display_name": "Python 3",
   "language": "python",
   "name": "python3"
  },
  "language_info": {
   "codemirror_mode": {
    "name": "ipython",
    "version": 3
   },
   "file_extension": ".py",
   "mimetype": "text/x-python",
   "name": "python",
   "nbconvert_exporter": "python",
   "pygments_lexer": "ipython3",
   "version": "3.10.12"
  },
  "papermill": {
   "default_parameters": {},
   "duration": 277.939266,
   "end_time": "2023-08-09T03:17:15.911189",
   "environment_variables": {},
   "exception": null,
   "input_path": "__notebook__.ipynb",
   "output_path": "__notebook__.ipynb",
   "parameters": {},
   "start_time": "2023-08-09T03:12:37.971923",
   "version": "2.4.0"
  }
 },
 "nbformat": 4,
 "nbformat_minor": 5
}
